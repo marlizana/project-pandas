{
 "cells": [
  {
   "cell_type": "markdown",
   "metadata": {
    "ExecuteTime": {
     "end_time": "2020-01-30T19:00:25.616644Z",
     "start_time": "2020-01-30T19:00:23.749385Z"
    }
   },
   "source": [
    "<img src=\"../Imagenes/1.jpg\">"
   ]
  },
  {
   "cell_type": "markdown",
   "metadata": {},
   "source": [
    "# Proyecto Pandas - Ataque de tiburones"
   ]
  },
  {
   "cell_type": "markdown",
   "metadata": {},
   "source": [
    "## Origen y descripción de los datos"
   ]
  },
  {
   "cell_type": "markdown",
   "metadata": {},
   "source": [
    "El .csv a importar aporta datos sobre ataques de tiburones recopilados por <i>Global Shark Attack File</i>. \n",
    "\n",
    "Para más información sobre la base de datos consultar <a href=\"http://www.sharkattackfile.net/\">aquí</a>."
   ]
  },
  {
   "cell_type": "markdown",
   "metadata": {},
   "source": [
    "## Preparación de los datos"
   ]
  },
  {
   "cell_type": "markdown",
   "metadata": {},
   "source": [
    "<img src=\"../Imagenes/p1.jpg\">"
   ]
  },
  {
   "cell_type": "markdown",
   "metadata": {},
   "source": [
    "### Librerías"
   ]
  },
  {
   "cell_type": "markdown",
   "metadata": {},
   "source": [
    "Importamos las librerías necesarias para el desarrollo de la tarea."
   ]
  },
  {
   "cell_type": "code",
   "execution_count": 201,
   "metadata": {
    "ExecuteTime": {
     "end_time": "2020-02-06T06:36:45.925292Z",
     "start_time": "2020-02-06T06:36:45.901663Z"
    }
   },
   "outputs": [],
   "source": [
    "import pandas as pd\n",
    "import numpy as np\n",
    "import re\n",
    "import ipywidgets as widgets\n",
    "from IPython.display import display\n",
    "from ipywidgets import interact, interact_manual"
   ]
  },
  {
   "cell_type": "markdown",
   "metadata": {},
   "source": [
    "### Exploración y primera toma de contacto con los datos"
   ]
  },
  {
   "cell_type": "markdown",
   "metadata": {},
   "source": [
    "* Importamos el dataset y lo renombramos."
   ]
  },
  {
   "cell_type": "code",
   "execution_count": 202,
   "metadata": {
    "ExecuteTime": {
     "end_time": "2020-02-06T06:36:47.069708Z",
     "start_time": "2020-02-06T06:36:46.849803Z"
    }
   },
   "outputs": [],
   "source": [
    "shark_attacks = pd.read_csv(\"../Datos/GSAF5.csv\", engine = \"python\") "
   ]
  },
  {
   "cell_type": "markdown",
   "metadata": {},
   "source": [
    "* Este comando nos mostrará el tamaño total de nuestra base de datos."
   ]
  },
  {
   "cell_type": "code",
   "execution_count": 203,
   "metadata": {
    "ExecuteTime": {
     "end_time": "2020-02-06T06:36:47.359881Z",
     "start_time": "2020-02-06T06:36:47.346183Z"
    }
   },
   "outputs": [
    {
     "data": {
      "text/plain": [
       "(5992, 24)"
      ]
     },
     "execution_count": 203,
     "metadata": {},
     "output_type": "execute_result"
    }
   ],
   "source": [
    "shark_attacks.shape"
   ]
  },
  {
   "cell_type": "markdown",
   "metadata": {},
   "source": [
    "* Vemos el nombre de las columnas de nuestro <i>dataset</i>."
   ]
  },
  {
   "cell_type": "code",
   "execution_count": 204,
   "metadata": {
    "ExecuteTime": {
     "end_time": "2020-02-06T06:36:47.820718Z",
     "start_time": "2020-02-06T06:36:47.810190Z"
    }
   },
   "outputs": [
    {
     "data": {
      "text/plain": [
       "Index(['Case Number', 'Date', 'Year', 'Type', 'Country', 'Area', 'Location',\n",
       "       'Activity', 'Name', 'Sex ', 'Age', 'Injury', 'Fatal (Y/N)', 'Time',\n",
       "       'Species ', 'Investigator or Source', 'pdf', 'href formula', 'href',\n",
       "       'Case Number.1', 'Case Number.2', 'original order', 'Unnamed: 22',\n",
       "       'Unnamed: 23'],\n",
       "      dtype='object')"
      ]
     },
     "execution_count": 204,
     "metadata": {},
     "output_type": "execute_result"
    }
   ],
   "source": [
    "shark_attacks.columns"
   ]
  },
  {
   "cell_type": "markdown",
   "metadata": {},
   "source": [
    "Podemos empezar a observar que los nombres de las columnas no están normalizados. Posibles cosas a arreglar serían las minúsculas/mayúsculas, borrar los espacios que se ven al final y estandarizar la puntuación por '_'."
   ]
  },
  {
   "cell_type": "markdown",
   "metadata": {},
   "source": [
    "* Vemos los tipos de datos que hay en las diferentes columnas."
   ]
  },
  {
   "cell_type": "code",
   "execution_count": 205,
   "metadata": {
    "ExecuteTime": {
     "end_time": "2020-02-06T06:36:48.472956Z",
     "start_time": "2020-02-06T06:36:48.461054Z"
    }
   },
   "outputs": [
    {
     "data": {
      "text/plain": [
       "Case Number               object\n",
       "Date                      object\n",
       "Year                       int64\n",
       "Type                      object\n",
       "Country                   object\n",
       "Area                      object\n",
       "Location                  object\n",
       "Activity                  object\n",
       "Name                      object\n",
       "Sex                       object\n",
       "Age                       object\n",
       "Injury                    object\n",
       "Fatal (Y/N)               object\n",
       "Time                      object\n",
       "Species                   object\n",
       "Investigator or Source    object\n",
       "pdf                       object\n",
       "href formula              object\n",
       "href                      object\n",
       "Case Number.1             object\n",
       "Case Number.2             object\n",
       "original order             int64\n",
       "Unnamed: 22               object\n",
       "Unnamed: 23               object\n",
       "dtype: object"
      ]
     },
     "execution_count": 205,
     "metadata": {},
     "output_type": "execute_result"
    }
   ],
   "source": [
    "shark_attacks.dtypes"
   ]
  },
  {
   "cell_type": "markdown",
   "metadata": {
    "ExecuteTime": {
     "end_time": "2020-01-30T19:15:49.805120Z",
     "start_time": "2020-01-30T19:15:49.786015Z"
    }
   },
   "source": [
    "* Hacemos una primera visualización de los datos"
   ]
  },
  {
   "cell_type": "code",
   "execution_count": 206,
   "metadata": {
    "ExecuteTime": {
     "end_time": "2020-02-06T06:36:48.953141Z",
     "start_time": "2020-02-06T06:36:48.910259Z"
    }
   },
   "outputs": [
    {
     "data": {
      "text/html": [
       "<div>\n",
       "<style scoped>\n",
       "    .dataframe tbody tr th:only-of-type {\n",
       "        vertical-align: middle;\n",
       "    }\n",
       "\n",
       "    .dataframe tbody tr th {\n",
       "        vertical-align: top;\n",
       "    }\n",
       "\n",
       "    .dataframe thead th {\n",
       "        text-align: right;\n",
       "    }\n",
       "</style>\n",
       "<table border=\"1\" class=\"dataframe\">\n",
       "  <thead>\n",
       "    <tr style=\"text-align: right;\">\n",
       "      <th></th>\n",
       "      <th>Case Number</th>\n",
       "      <th>Date</th>\n",
       "      <th>Year</th>\n",
       "      <th>Type</th>\n",
       "      <th>Country</th>\n",
       "      <th>Area</th>\n",
       "      <th>Location</th>\n",
       "      <th>Activity</th>\n",
       "      <th>Name</th>\n",
       "      <th>Sex</th>\n",
       "      <th>...</th>\n",
       "      <th>Species</th>\n",
       "      <th>Investigator or Source</th>\n",
       "      <th>pdf</th>\n",
       "      <th>href formula</th>\n",
       "      <th>href</th>\n",
       "      <th>Case Number.1</th>\n",
       "      <th>Case Number.2</th>\n",
       "      <th>original order</th>\n",
       "      <th>Unnamed: 22</th>\n",
       "      <th>Unnamed: 23</th>\n",
       "    </tr>\n",
       "  </thead>\n",
       "  <tbody>\n",
       "    <tr>\n",
       "      <td>0</td>\n",
       "      <td>2016.09.18.c</td>\n",
       "      <td>18-Sep-16</td>\n",
       "      <td>2016</td>\n",
       "      <td>Unprovoked</td>\n",
       "      <td>USA</td>\n",
       "      <td>Florida</td>\n",
       "      <td>New Smyrna Beach, Volusia County</td>\n",
       "      <td>Surfing</td>\n",
       "      <td>male</td>\n",
       "      <td>M</td>\n",
       "      <td>...</td>\n",
       "      <td>NaN</td>\n",
       "      <td>Orlando Sentinel, 9/19/2016</td>\n",
       "      <td>2016.09.18.c-NSB.pdf</td>\n",
       "      <td>http://sharkattackfile.net/spreadsheets/pdf_di...</td>\n",
       "      <td>http://sharkattackfile.net/spreadsheets/pdf_di...</td>\n",
       "      <td>2016.09.18.c</td>\n",
       "      <td>2016.09.18.c</td>\n",
       "      <td>5993</td>\n",
       "      <td>NaN</td>\n",
       "      <td>NaN</td>\n",
       "    </tr>\n",
       "    <tr>\n",
       "      <td>1</td>\n",
       "      <td>2016.09.18.b</td>\n",
       "      <td>18-Sep-16</td>\n",
       "      <td>2016</td>\n",
       "      <td>Unprovoked</td>\n",
       "      <td>USA</td>\n",
       "      <td>Florida</td>\n",
       "      <td>New Smyrna Beach, Volusia County</td>\n",
       "      <td>Surfing</td>\n",
       "      <td>Chucky Luciano</td>\n",
       "      <td>M</td>\n",
       "      <td>...</td>\n",
       "      <td>NaN</td>\n",
       "      <td>Orlando Sentinel, 9/19/2016</td>\n",
       "      <td>2016.09.18.b-Luciano.pdf</td>\n",
       "      <td>http://sharkattackfile.net/spreadsheets/pdf_di...</td>\n",
       "      <td>http://sharkattackfile.net/spreadsheets/pdf_di...</td>\n",
       "      <td>2016.09.18.b</td>\n",
       "      <td>2016.09.18.b</td>\n",
       "      <td>5992</td>\n",
       "      <td>NaN</td>\n",
       "      <td>NaN</td>\n",
       "    </tr>\n",
       "    <tr>\n",
       "      <td>2</td>\n",
       "      <td>2016.09.18.a</td>\n",
       "      <td>18-Sep-16</td>\n",
       "      <td>2016</td>\n",
       "      <td>Unprovoked</td>\n",
       "      <td>USA</td>\n",
       "      <td>Florida</td>\n",
       "      <td>New Smyrna Beach, Volusia County</td>\n",
       "      <td>Surfing</td>\n",
       "      <td>male</td>\n",
       "      <td>M</td>\n",
       "      <td>...</td>\n",
       "      <td>NaN</td>\n",
       "      <td>Orlando Sentinel, 9/19/2016</td>\n",
       "      <td>2016.09.18.a-NSB.pdf</td>\n",
       "      <td>http://sharkattackfile.net/spreadsheets/pdf_di...</td>\n",
       "      <td>http://sharkattackfile.net/spreadsheets/pdf_di...</td>\n",
       "      <td>2016.09.18.a</td>\n",
       "      <td>2016.09.18.a</td>\n",
       "      <td>5991</td>\n",
       "      <td>NaN</td>\n",
       "      <td>NaN</td>\n",
       "    </tr>\n",
       "    <tr>\n",
       "      <td>3</td>\n",
       "      <td>2016.09.17</td>\n",
       "      <td>17-Sep-16</td>\n",
       "      <td>2016</td>\n",
       "      <td>Unprovoked</td>\n",
       "      <td>AUSTRALIA</td>\n",
       "      <td>Victoria</td>\n",
       "      <td>Thirteenth Beach</td>\n",
       "      <td>Surfing</td>\n",
       "      <td>Rory Angiolella</td>\n",
       "      <td>M</td>\n",
       "      <td>...</td>\n",
       "      <td>NaN</td>\n",
       "      <td>The Age, 9/18/2016</td>\n",
       "      <td>2016.09.17-Angiolella.pdf</td>\n",
       "      <td>http://sharkattackfile.net/spreadsheets/pdf_di...</td>\n",
       "      <td>http://sharkattackfile.net/spreadsheets/pdf_di...</td>\n",
       "      <td>2016.09.17</td>\n",
       "      <td>2016.09.17</td>\n",
       "      <td>5990</td>\n",
       "      <td>NaN</td>\n",
       "      <td>NaN</td>\n",
       "    </tr>\n",
       "    <tr>\n",
       "      <td>4</td>\n",
       "      <td>2016.09.15</td>\n",
       "      <td>16-Sep-16</td>\n",
       "      <td>2016</td>\n",
       "      <td>Unprovoked</td>\n",
       "      <td>AUSTRALIA</td>\n",
       "      <td>Victoria</td>\n",
       "      <td>Bells Beach</td>\n",
       "      <td>Surfing</td>\n",
       "      <td>male</td>\n",
       "      <td>M</td>\n",
       "      <td>...</td>\n",
       "      <td>2 m shark</td>\n",
       "      <td>The Age, 9/16/2016</td>\n",
       "      <td>2016.09.16-BellsBeach.pdf</td>\n",
       "      <td>http://sharkattackfile.net/spreadsheets/pdf_di...</td>\n",
       "      <td>http://sharkattackfile.net/spreadsheets/pdf_di...</td>\n",
       "      <td>2016.09.16</td>\n",
       "      <td>2016.09.15</td>\n",
       "      <td>5989</td>\n",
       "      <td>NaN</td>\n",
       "      <td>NaN</td>\n",
       "    </tr>\n",
       "  </tbody>\n",
       "</table>\n",
       "<p>5 rows × 24 columns</p>\n",
       "</div>"
      ],
      "text/plain": [
       "    Case Number       Date  Year        Type    Country      Area  \\\n",
       "0  2016.09.18.c  18-Sep-16  2016  Unprovoked        USA   Florida   \n",
       "1  2016.09.18.b  18-Sep-16  2016  Unprovoked        USA   Florida   \n",
       "2  2016.09.18.a  18-Sep-16  2016  Unprovoked        USA   Florida   \n",
       "3    2016.09.17  17-Sep-16  2016  Unprovoked  AUSTRALIA  Victoria   \n",
       "4    2016.09.15  16-Sep-16  2016  Unprovoked  AUSTRALIA  Victoria   \n",
       "\n",
       "                           Location Activity             Name Sex   ...  \\\n",
       "0  New Smyrna Beach, Volusia County  Surfing             male    M  ...   \n",
       "1  New Smyrna Beach, Volusia County  Surfing   Chucky Luciano    M  ...   \n",
       "2  New Smyrna Beach, Volusia County  Surfing             male    M  ...   \n",
       "3                  Thirteenth Beach  Surfing  Rory Angiolella    M  ...   \n",
       "4                       Bells Beach  Surfing             male    M  ...   \n",
       "\n",
       "    Species        Investigator or Source                        pdf  \\\n",
       "0        NaN  Orlando Sentinel, 9/19/2016       2016.09.18.c-NSB.pdf   \n",
       "1        NaN  Orlando Sentinel, 9/19/2016   2016.09.18.b-Luciano.pdf   \n",
       "2        NaN  Orlando Sentinel, 9/19/2016       2016.09.18.a-NSB.pdf   \n",
       "3        NaN           The Age, 9/18/2016  2016.09.17-Angiolella.pdf   \n",
       "4  2 m shark           The Age, 9/16/2016  2016.09.16-BellsBeach.pdf   \n",
       "\n",
       "                                        href formula  \\\n",
       "0  http://sharkattackfile.net/spreadsheets/pdf_di...   \n",
       "1  http://sharkattackfile.net/spreadsheets/pdf_di...   \n",
       "2  http://sharkattackfile.net/spreadsheets/pdf_di...   \n",
       "3  http://sharkattackfile.net/spreadsheets/pdf_di...   \n",
       "4  http://sharkattackfile.net/spreadsheets/pdf_di...   \n",
       "\n",
       "                                                href Case Number.1  \\\n",
       "0  http://sharkattackfile.net/spreadsheets/pdf_di...  2016.09.18.c   \n",
       "1  http://sharkattackfile.net/spreadsheets/pdf_di...  2016.09.18.b   \n",
       "2  http://sharkattackfile.net/spreadsheets/pdf_di...  2016.09.18.a   \n",
       "3  http://sharkattackfile.net/spreadsheets/pdf_di...    2016.09.17   \n",
       "4  http://sharkattackfile.net/spreadsheets/pdf_di...    2016.09.16   \n",
       "\n",
       "  Case Number.2 original order Unnamed: 22 Unnamed: 23  \n",
       "0  2016.09.18.c           5993         NaN         NaN  \n",
       "1  2016.09.18.b           5992         NaN         NaN  \n",
       "2  2016.09.18.a           5991         NaN         NaN  \n",
       "3    2016.09.17           5990         NaN         NaN  \n",
       "4    2016.09.15           5989         NaN         NaN  \n",
       "\n",
       "[5 rows x 24 columns]"
      ]
     },
     "execution_count": 206,
     "metadata": {},
     "output_type": "execute_result"
    }
   ],
   "source": [
    "shark_attacks.head()"
   ]
  },
  {
   "cell_type": "code",
   "execution_count": 207,
   "metadata": {
    "ExecuteTime": {
     "end_time": "2020-02-06T06:36:49.228100Z",
     "start_time": "2020-02-06T06:36:49.183641Z"
    }
   },
   "outputs": [
    {
     "data": {
      "text/html": [
       "<div>\n",
       "<style scoped>\n",
       "    .dataframe tbody tr th:only-of-type {\n",
       "        vertical-align: middle;\n",
       "    }\n",
       "\n",
       "    .dataframe tbody tr th {\n",
       "        vertical-align: top;\n",
       "    }\n",
       "\n",
       "    .dataframe thead th {\n",
       "        text-align: right;\n",
       "    }\n",
       "</style>\n",
       "<table border=\"1\" class=\"dataframe\">\n",
       "  <thead>\n",
       "    <tr style=\"text-align: right;\">\n",
       "      <th></th>\n",
       "      <th>Case Number</th>\n",
       "      <th>Date</th>\n",
       "      <th>Year</th>\n",
       "      <th>Type</th>\n",
       "      <th>Country</th>\n",
       "      <th>Area</th>\n",
       "      <th>Location</th>\n",
       "      <th>Activity</th>\n",
       "      <th>Name</th>\n",
       "      <th>Sex</th>\n",
       "      <th>...</th>\n",
       "      <th>Species</th>\n",
       "      <th>Investigator or Source</th>\n",
       "      <th>pdf</th>\n",
       "      <th>href formula</th>\n",
       "      <th>href</th>\n",
       "      <th>Case Number.1</th>\n",
       "      <th>Case Number.2</th>\n",
       "      <th>original order</th>\n",
       "      <th>Unnamed: 22</th>\n",
       "      <th>Unnamed: 23</th>\n",
       "    </tr>\n",
       "  </thead>\n",
       "  <tbody>\n",
       "    <tr>\n",
       "      <td>5987</td>\n",
       "      <td>ND.0005</td>\n",
       "      <td>Before 1903</td>\n",
       "      <td>0</td>\n",
       "      <td>Unprovoked</td>\n",
       "      <td>AUSTRALIA</td>\n",
       "      <td>Western Australia</td>\n",
       "      <td>Roebuck Bay</td>\n",
       "      <td>Diving</td>\n",
       "      <td>male</td>\n",
       "      <td>M</td>\n",
       "      <td>...</td>\n",
       "      <td>NaN</td>\n",
       "      <td>H. Taunton; N. Bartlett,  p. 234</td>\n",
       "      <td>ND-0005-RoebuckBay.pdf</td>\n",
       "      <td>http://sharkattackfile.net/spreadsheets/pdf_di...</td>\n",
       "      <td>http://sharkattackfile.net/spreadsheets/pdf_di...</td>\n",
       "      <td>ND.0005</td>\n",
       "      <td>ND.0005</td>\n",
       "      <td>6</td>\n",
       "      <td>NaN</td>\n",
       "      <td>NaN</td>\n",
       "    </tr>\n",
       "    <tr>\n",
       "      <td>5988</td>\n",
       "      <td>ND.0004</td>\n",
       "      <td>Before 1903</td>\n",
       "      <td>0</td>\n",
       "      <td>Unprovoked</td>\n",
       "      <td>AUSTRALIA</td>\n",
       "      <td>Western Australia</td>\n",
       "      <td>NaN</td>\n",
       "      <td>Pearl diving</td>\n",
       "      <td>Ahmun</td>\n",
       "      <td>M</td>\n",
       "      <td>...</td>\n",
       "      <td>NaN</td>\n",
       "      <td>H. Taunton; N. Bartlett,  pp. 233-234</td>\n",
       "      <td>ND-0004-Ahmun.pdf</td>\n",
       "      <td>http://sharkattackfile.net/spreadsheets/pdf_di...</td>\n",
       "      <td>http://sharkattackfile.net/spreadsheets/pdf_di...</td>\n",
       "      <td>ND.0004</td>\n",
       "      <td>ND.0004</td>\n",
       "      <td>5</td>\n",
       "      <td>NaN</td>\n",
       "      <td>NaN</td>\n",
       "    </tr>\n",
       "    <tr>\n",
       "      <td>5989</td>\n",
       "      <td>ND.0003</td>\n",
       "      <td>1900-1905</td>\n",
       "      <td>0</td>\n",
       "      <td>Unprovoked</td>\n",
       "      <td>USA</td>\n",
       "      <td>North Carolina</td>\n",
       "      <td>Ocracoke Inlet</td>\n",
       "      <td>Swimming</td>\n",
       "      <td>Coast Guard personnel</td>\n",
       "      <td>M</td>\n",
       "      <td>...</td>\n",
       "      <td>NaN</td>\n",
       "      <td>F. Schwartz, p.23; C. Creswell, GSAF</td>\n",
       "      <td>ND-0003-Ocracoke_1900-1905.pdf</td>\n",
       "      <td>http://sharkattackfile.net/spreadsheets/pdf_di...</td>\n",
       "      <td>http://sharkattackfile.net/spreadsheets/pdf_di...</td>\n",
       "      <td>ND.0003</td>\n",
       "      <td>ND.0003</td>\n",
       "      <td>4</td>\n",
       "      <td>NaN</td>\n",
       "      <td>NaN</td>\n",
       "    </tr>\n",
       "    <tr>\n",
       "      <td>5990</td>\n",
       "      <td>ND.0002</td>\n",
       "      <td>1883-1889</td>\n",
       "      <td>0</td>\n",
       "      <td>Unprovoked</td>\n",
       "      <td>PANAMA</td>\n",
       "      <td>NaN</td>\n",
       "      <td>Panama Bay 8�N, 79�W</td>\n",
       "      <td>NaN</td>\n",
       "      <td>Jules Patterson</td>\n",
       "      <td>M</td>\n",
       "      <td>...</td>\n",
       "      <td>NaN</td>\n",
       "      <td>The Sun, 10/20/1938</td>\n",
       "      <td>ND-0002-JulesPatterson.pdf</td>\n",
       "      <td>http://sharkattackfile.net/spreadsheets/pdf_di...</td>\n",
       "      <td>http://sharkattackfile.net/spreadsheets/pdf_di...</td>\n",
       "      <td>ND.0002</td>\n",
       "      <td>ND.0002</td>\n",
       "      <td>3</td>\n",
       "      <td>NaN</td>\n",
       "      <td>NaN</td>\n",
       "    </tr>\n",
       "    <tr>\n",
       "      <td>5991</td>\n",
       "      <td>ND.0001</td>\n",
       "      <td>1845-1853</td>\n",
       "      <td>0</td>\n",
       "      <td>Unprovoked</td>\n",
       "      <td>CEYLON (SRI LANKA)</td>\n",
       "      <td>Eastern Province</td>\n",
       "      <td>Below the English fort, Trincomalee</td>\n",
       "      <td>Swimming</td>\n",
       "      <td>male</td>\n",
       "      <td>M</td>\n",
       "      <td>...</td>\n",
       "      <td>NaN</td>\n",
       "      <td>S.W. Baker</td>\n",
       "      <td>ND-0001-Ceylon.pdf</td>\n",
       "      <td>http://sharkattackfile.net/spreadsheets/pdf_di...</td>\n",
       "      <td>http://sharkattackfile.net/spreadsheets/pdf_di...</td>\n",
       "      <td>ND.0001</td>\n",
       "      <td>ND.0001</td>\n",
       "      <td>2</td>\n",
       "      <td>NaN</td>\n",
       "      <td>NaN</td>\n",
       "    </tr>\n",
       "  </tbody>\n",
       "</table>\n",
       "<p>5 rows × 24 columns</p>\n",
       "</div>"
      ],
      "text/plain": [
       "     Case Number         Date  Year        Type             Country  \\\n",
       "5987     ND.0005  Before 1903     0  Unprovoked           AUSTRALIA   \n",
       "5988     ND.0004  Before 1903     0  Unprovoked           AUSTRALIA   \n",
       "5989     ND.0003    1900-1905     0  Unprovoked                 USA   \n",
       "5990     ND.0002    1883-1889     0  Unprovoked              PANAMA   \n",
       "5991     ND.0001    1845-1853     0  Unprovoked  CEYLON (SRI LANKA)   \n",
       "\n",
       "                   Area                             Location      Activity  \\\n",
       "5987  Western Australia                          Roebuck Bay        Diving   \n",
       "5988  Western Australia                                  NaN  Pearl diving   \n",
       "5989     North Carolina                       Ocracoke Inlet      Swimming   \n",
       "5990                NaN                 Panama Bay 8�N, 79�W           NaN   \n",
       "5991   Eastern Province  Below the English fort, Trincomalee      Swimming   \n",
       "\n",
       "                       Name Sex   ... Species   \\\n",
       "5987                   male    M  ...      NaN   \n",
       "5988                  Ahmun    M  ...      NaN   \n",
       "5989  Coast Guard personnel    M  ...      NaN   \n",
       "5990        Jules Patterson    M  ...      NaN   \n",
       "5991                   male    M  ...      NaN   \n",
       "\n",
       "                     Investigator or Source                             pdf  \\\n",
       "5987       H. Taunton; N. Bartlett,  p. 234          ND-0005-RoebuckBay.pdf   \n",
       "5988  H. Taunton; N. Bartlett,  pp. 233-234               ND-0004-Ahmun.pdf   \n",
       "5989   F. Schwartz, p.23; C. Creswell, GSAF  ND-0003-Ocracoke_1900-1905.pdf   \n",
       "5990                    The Sun, 10/20/1938      ND-0002-JulesPatterson.pdf   \n",
       "5991                             S.W. Baker              ND-0001-Ceylon.pdf   \n",
       "\n",
       "                                           href formula  \\\n",
       "5987  http://sharkattackfile.net/spreadsheets/pdf_di...   \n",
       "5988  http://sharkattackfile.net/spreadsheets/pdf_di...   \n",
       "5989  http://sharkattackfile.net/spreadsheets/pdf_di...   \n",
       "5990  http://sharkattackfile.net/spreadsheets/pdf_di...   \n",
       "5991  http://sharkattackfile.net/spreadsheets/pdf_di...   \n",
       "\n",
       "                                                   href Case Number.1  \\\n",
       "5987  http://sharkattackfile.net/spreadsheets/pdf_di...       ND.0005   \n",
       "5988  http://sharkattackfile.net/spreadsheets/pdf_di...       ND.0004   \n",
       "5989  http://sharkattackfile.net/spreadsheets/pdf_di...       ND.0003   \n",
       "5990  http://sharkattackfile.net/spreadsheets/pdf_di...       ND.0002   \n",
       "5991  http://sharkattackfile.net/spreadsheets/pdf_di...       ND.0001   \n",
       "\n",
       "     Case Number.2 original order Unnamed: 22 Unnamed: 23  \n",
       "5987       ND.0005              6         NaN         NaN  \n",
       "5988       ND.0004              5         NaN         NaN  \n",
       "5989       ND.0003              4         NaN         NaN  \n",
       "5990       ND.0002              3         NaN         NaN  \n",
       "5991       ND.0001              2         NaN         NaN  \n",
       "\n",
       "[5 rows x 24 columns]"
      ]
     },
     "execution_count": 207,
     "metadata": {},
     "output_type": "execute_result"
    }
   ],
   "source": [
    "shark_attacks.tail()"
   ]
  },
  {
   "cell_type": "markdown",
   "metadata": {},
   "source": [
    "Comparando los primeros registros con los últimos y podemos observar como <CODE>'Case Number'</CODE> y <CODE>Date</CODE> presentan formatos diferentes, <CODE>'Year'</CODE> tiene valores a 0, en <CODE>Name</CODE> hay elementos que deberían ir en <CODE>Sex</CODE>, etc. Pasaremos a observar los atributos que nos interesen con más detalle más adelante.\n",
    "\n",
    "Las columnas <CODE>'name'</CODE>, <CODE>'fatal_(y/n)'</CODE>, <CODE>'time'</CODE>, <CODE>'investigator_or_source'</CODE>, <CODE>'pdf'</CODE>, <CODE>'href_formula'</CODE>, <CODE>'href'</CODE>,<CODE>'case_number_1'</CODE>,<CODE>'case_number_2'</CODE>, <CODE>'original_order'</CODE> no aportan información relevante para analizar."
   ]
  },
  {
   "cell_type": "markdown",
   "metadata": {},
   "source": [
    "* Con esto vemos la cantidad de <CODE>'NaN'</CODE> con los que nos encontramos."
   ]
  },
  {
   "cell_type": "code",
   "execution_count": 208,
   "metadata": {
    "ExecuteTime": {
     "end_time": "2020-02-06T06:36:50.172467Z",
     "start_time": "2020-02-06T06:36:50.139848Z"
    }
   },
   "outputs": [
    {
     "data": {
      "text/plain": [
       "Case Number                  0\n",
       "Date                         0\n",
       "Year                         0\n",
       "Type                         0\n",
       "Country                     43\n",
       "Area                       402\n",
       "Location                   496\n",
       "Activity                   527\n",
       "Name                       200\n",
       "Sex                        567\n",
       "Age                       2681\n",
       "Injury                      27\n",
       "Fatal (Y/N)                 19\n",
       "Time                      3213\n",
       "Species                   2934\n",
       "Investigator or Source      15\n",
       "pdf                          0\n",
       "href formula                 1\n",
       "href                         3\n",
       "Case Number.1                0\n",
       "Case Number.2                0\n",
       "original order               0\n",
       "Unnamed: 22               5991\n",
       "Unnamed: 23               5990\n",
       "dtype: int64"
      ]
     },
     "execution_count": 208,
     "metadata": {},
     "output_type": "execute_result"
    }
   ],
   "source": [
    "shark_attacks.isnull().sum()"
   ]
  },
  {
   "cell_type": "markdown",
   "metadata": {},
   "source": [
    "Primeras observaciones en relación a los <CODE>NaN</CODE>:\n",
    "\n",
    "\n",
    "* Vemos que las columnas <CODE>'unnamed_22'</CODE> y <CODE>'unnamed_23'</CODE> tienen casi todos los valores <CODE>NaN</CODE>.\n",
    "\n",
    "\n",
    "* La columna <CODE>'Time'</CODE> tiene más de la mitad de los registros como <CODE>NaN</CODE>. \n",
    "\n",
    "\n",
    "* Las columnas <CODE>'Age'</CODE> y <CODE>'Species'</CODE> se acercan a la mitad de registros como <CODE>NaN</CODE>.\n"
   ]
  },
  {
   "cell_type": "markdown",
   "metadata": {},
   "source": [
    "## Limpieza de datos"
   ]
  },
  {
   "cell_type": "markdown",
   "metadata": {},
   "source": [
    "La <b>limpieza de datos </b> es el proceso que sufren los datos en los que se eliminan los que sean erróneos, redundantes o incompletos."
   ]
  },
  {
   "cell_type": "markdown",
   "metadata": {},
   "source": [
    "### Normalización de los nombres de los atributos"
   ]
  },
  {
   "cell_type": "code",
   "execution_count": 209,
   "metadata": {
    "ExecuteTime": {
     "end_time": "2020-02-06T06:36:51.522802Z",
     "start_time": "2020-02-06T06:36:51.511330Z"
    },
    "code_folding": []
   },
   "outputs": [],
   "source": [
    "def clean (words):\n",
    "    \n",
    "    \"\"\"\n",
    "    ****************************************************\n",
    "    Función para limpiar la información,\n",
    "    pasar la primera a mayúculas y el resto a minúscula,\n",
    "    eliminaremos espacios innecesarios, el resto serán\n",
    "    sustituidos por '_', igual que otros elementos de\n",
    "    puntuación?\n",
    "    \n",
    "    Input : lista\n",
    "    Output : lista\n",
    "    ****************************************************\n",
    "    \n",
    "    \"\"\"\n",
    "    c = []\n",
    "    for word in words:\n",
    "        word = str(word).lower()\n",
    "        word = word.strip()\n",
    "        word = word.replace(\".\", ' ')\n",
    "        word = word.replace(\" \", '_')\n",
    "        word = word.replace(\":\", '_')\n",
    "        word = word.replace(\"__\", '_')\n",
    "        word = word.replace (\"/\", \"\")\n",
    "        word = word.replace (\"?\", \"\")\n",
    "        word = word.replace (\"(\", \"\")\n",
    "        word = word.replace (\")\", \"\")\n",
    "        \n",
    "        c.append (word)\n",
    "    return c"
   ]
  },
  {
   "cell_type": "code",
   "execution_count": 210,
   "metadata": {
    "ExecuteTime": {
     "end_time": "2020-02-06T06:36:51.822184Z",
     "start_time": "2020-02-06T06:36:51.810511Z"
    },
    "code_folding": []
   },
   "outputs": [],
   "source": [
    "def change_names (list1, list2):\n",
    "    \n",
    "    \"\"\"\n",
    "    *****************************************\n",
    "    Convierte a diccionario dos listas dadas\n",
    "    *****************************************\n",
    "    \"\"\"\n",
    "    \n",
    "    dictchange = dict(zip(list(list1), list(list2)))\n",
    "    return dictchange"
   ]
  },
  {
   "cell_type": "code",
   "execution_count": 211,
   "metadata": {
    "ExecuteTime": {
     "end_time": "2020-02-06T06:36:52.119674Z",
     "start_time": "2020-02-06T06:36:52.095432Z"
    },
    "code_folding": []
   },
   "outputs": [],
   "source": [
    "#Renombramos las columnas.\n",
    "shark_attacks = shark_attacks.rename(columns = change_names(shark_attacks.columns, clean(shark_attacks.columns)))"
   ]
  },
  {
   "cell_type": "code",
   "execution_count": 212,
   "metadata": {
    "ExecuteTime": {
     "end_time": "2020-02-06T06:36:52.363354Z",
     "start_time": "2020-02-06T06:36:52.353234Z"
    }
   },
   "outputs": [
    {
     "data": {
      "text/plain": [
       "Index(['case_number', 'date', 'year', 'type', 'country', 'area', 'location',\n",
       "       'activity', 'name', 'sex', 'age', 'injury', 'fatal_yn', 'time',\n",
       "       'species', 'investigator_or_source', 'pdf', 'href_formula', 'href',\n",
       "       'case_number_1', 'case_number_2', 'original_order', 'unnamed_22',\n",
       "       'unnamed_23'],\n",
       "      dtype='object')"
      ]
     },
     "execution_count": 212,
     "metadata": {},
     "output_type": "execute_result"
    }
   ],
   "source": [
    "shark_attacks.columns"
   ]
  },
  {
   "cell_type": "markdown",
   "metadata": {},
   "source": [
    "### Normalización y transformación de datos "
   ]
  },
  {
   "cell_type": "markdown",
   "metadata": {},
   "source": [
    "En este apartado nos centraremos en normalizar algunas de las columnas que pueden interesarnos. "
   ]
  },
  {
   "cell_type": "markdown",
   "metadata": {},
   "source": [
    "#### Year"
   ]
  },
  {
   "cell_type": "markdown",
   "metadata": {},
   "source": [
    "Vemos como los datos referentes a la fecha del ataque del tiburon no presentan el mismo formato, intentaremos extraer los años de forma estandarizada para facilitar su posterior análisis."
   ]
  },
  {
   "cell_type": "code",
   "execution_count": 213,
   "metadata": {
    "ExecuteTime": {
     "end_time": "2020-02-06T06:36:53.833446Z",
     "start_time": "2020-02-06T06:36:53.814893Z"
    }
   },
   "outputs": [
    {
     "data": {
      "text/plain": [
       "2015    139\n",
       "2011    128\n",
       "2014    125\n",
       "0       124\n",
       "2013    122\n",
       "       ... \n",
       "1742      1\n",
       "1758      1\n",
       "1818      1\n",
       "1822      1\n",
       "1595      1\n",
       "Name: year, Length: 232, dtype: int64"
      ]
     },
     "execution_count": 213,
     "metadata": {},
     "output_type": "execute_result"
    }
   ],
   "source": [
    "shark_attacks['year'].value_counts()"
   ]
  },
  {
   "cell_type": "code",
   "execution_count": 214,
   "metadata": {
    "ExecuteTime": {
     "end_time": "2020-02-06T06:36:54.389199Z",
     "start_time": "2020-02-06T06:36:54.200196Z"
    },
    "code_folding": []
   },
   "outputs": [],
   "source": [
    "\"\"\"\n",
    "**************************************************\n",
    "En los casos en los que el campo 'year' está a 0, \n",
    "buscamos si en 'date' está el año.\n",
    "Si se encuentra con dos fechas hace una media.\n",
    "Si no encuentra información en ninguna de las columnas\n",
    "añadirá la media.\n",
    "**************************************************\n",
    "\"\"\"\n",
    "\n",
    "year_lst = []\n",
    "year_lst1 = list(shark_attacks['year'])\n",
    "        \n",
    "for row in shark_attacks['date']:\n",
    "    temp_row = ''.join(re.findall('\\-*\\d{4}',row))\n",
    "    temp_row = re.sub('\\-','',temp_row)\n",
    "\n",
    "    if len(str(temp_row))>4:\n",
    "        temp_row = int((int(temp_row[0:4]) + int(temp_row [4:8]))/2)\n",
    "        year_lst.append(temp_row)\n",
    "    else:\n",
    "        year_lst.append(temp_row)\n",
    "\n",
    "normalized_years = []\n",
    "e = 0       \n",
    "for year in year_lst1:\n",
    "    try:\n",
    "        if year != 0:\n",
    "            normalized_years.append(int(year))\n",
    "            e+=1\n",
    "        elif year == 0:\n",
    "            normalized_years.append(int(year_lst[e]))\n",
    "            e+=1\n",
    "    except ValueError:\n",
    "        normalized_years.append((int(np.mean(normalized_years))))\n",
    "        \n",
    "        \n",
    "shark_attacks['year'] = normalized_years"
   ]
  },
  {
   "cell_type": "markdown",
   "metadata": {},
   "source": [
    "#### Type"
   ]
  },
  {
   "cell_type": "markdown",
   "metadata": {},
   "source": [
    "El atributo <CODE>'type' </CODE> está bastante limpio, solo cambiaremos <CODE>'Boating'</CODE> por <CODE>'Boat</CODE>."
   ]
  },
  {
   "cell_type": "code",
   "execution_count": 215,
   "metadata": {
    "ExecuteTime": {
     "end_time": "2020-02-06T06:36:54.821479Z",
     "start_time": "2020-02-06T06:36:54.801405Z"
    }
   },
   "outputs": [
    {
     "data": {
      "text/plain": [
       "Unprovoked      4386\n",
       "Provoked         557\n",
       "Invalid          519\n",
       "Sea Disaster     220\n",
       "Boat             200\n",
       "Boating          110\n",
       "Name: type, dtype: int64"
      ]
     },
     "execution_count": 215,
     "metadata": {},
     "output_type": "execute_result"
    }
   ],
   "source": [
    "shark_attacks['type'].value_counts()"
   ]
  },
  {
   "cell_type": "code",
   "execution_count": 216,
   "metadata": {
    "ExecuteTime": {
     "end_time": "2020-02-06T06:36:55.130723Z",
     "start_time": "2020-02-06T06:36:55.106025Z"
    }
   },
   "outputs": [],
   "source": [
    "shark_attacks['type_attack'] = [re.sub(\"ing\", \"\", i) for i in shark_attacks['type']]"
   ]
  },
  {
   "cell_type": "code",
   "execution_count": 217,
   "metadata": {
    "ExecuteTime": {
     "end_time": "2020-02-06T06:36:55.791422Z",
     "start_time": "2020-02-06T06:36:55.759114Z"
    }
   },
   "outputs": [
    {
     "data": {
      "text/plain": [
       "Unprovoked      4386\n",
       "Provoked         557\n",
       "Invalid          519\n",
       "Boat             310\n",
       "Sea Disaster     220\n",
       "Name: type_attack, dtype: int64"
      ]
     },
     "execution_count": 217,
     "metadata": {},
     "output_type": "execute_result"
    }
   ],
   "source": [
    "shark_attacks['type_attack'].value_counts()"
   ]
  },
  {
   "cell_type": "markdown",
   "metadata": {
    "ExecuteTime": {
     "end_time": "2020-02-01T07:09:56.366778Z",
     "start_time": "2020-02-01T07:09:56.281080Z"
    }
   },
   "source": [
    "#### Atributos del accidentado"
   ]
  },
  {
   "cell_type": "markdown",
   "metadata": {},
   "source": [
    "##### Sex"
   ]
  },
  {
   "cell_type": "markdown",
   "metadata": {},
   "source": [
    "Analizamos los valores que nos encontramos en <CODE>'sex'</CODE> para proceder a su normalización. Veremos cuantos valores hay de cada una de las opciones. También tendremos en cuenta los <b>567</b> valores <CODE>'NaN'</CODE> que vimos durante el proceso de exploración."
   ]
  },
  {
   "cell_type": "code",
   "execution_count": 218,
   "metadata": {
    "ExecuteTime": {
     "end_time": "2020-02-06T06:36:59.276182Z",
     "start_time": "2020-02-06T06:36:59.252809Z"
    }
   },
   "outputs": [
    {
     "data": {
      "text/plain": [
       "M      4835\n",
       "F       585\n",
       "M         2\n",
       ".         1\n",
       "lli       1\n",
       "N         1\n",
       "Name: sex, dtype: int64"
      ]
     },
     "execution_count": 218,
     "metadata": {},
     "output_type": "execute_result"
    }
   ],
   "source": [
    "shark_attacks['sex'].value_counts()"
   ]
  },
  {
   "cell_type": "markdown",
   "metadata": {},
   "source": [
    "Ejecutar solo una de las dos opciones:"
   ]
  },
  {
   "cell_type": "markdown",
   "metadata": {},
   "source": [
    "###### Opción 1:"
   ]
  },
  {
   "cell_type": "markdown",
   "metadata": {},
   "source": [
    "Para normalizar el resto de elementos, modificaremos las observaciones en función del porcentaje de cada sexo."
   ]
  },
  {
   "cell_type": "code",
   "execution_count": 169,
   "metadata": {
    "ExecuteTime": {
     "end_time": "2020-02-06T06:31:09.399804Z",
     "start_time": "2020-02-06T06:31:09.381111Z"
    }
   },
   "outputs": [],
   "source": [
    "sex_list=[]\n",
    "for sex in shark_attacks['sex']:\n",
    "    \n",
    "    \"\"\"\n",
    "    ******************************************************************\n",
    "    Con este primer paso inclumos el mayor número de valores correctos\n",
    "    eliminando los posibles espacios que encontremos.\n",
    "    ******************************************************************\n",
    "    \"\"\"\n",
    "    \n",
    "    sex = str(sex)\n",
    "    if sex.strip() == \"M\" or sex.strip() == \"F\":\n",
    "        sex_list.append(sex.strip())"
   ]
  },
  {
   "cell_type": "markdown",
   "metadata": {},
   "source": [
    "En esta opción nos centraremos en:\n",
    "\n",
    "1- sacar % de <CODE>'M'</CODE> y de <CODE>'F'</CODE>,                                         \n",
    "2- buscar la forma de repartir ese % en el resto de observaciones."
   ]
  },
  {
   "cell_type": "code",
   "execution_count": 170,
   "metadata": {
    "ExecuteTime": {
     "end_time": "2020-02-06T06:31:10.569190Z",
     "start_time": "2020-02-06T06:31:10.547524Z"
    }
   },
   "outputs": [],
   "source": [
    "# % de 'm' y de 'f'\n",
    "c=round(sex_list.count(\"F\")/len(sex_list)*int(len(shark_attacks['sex'])-len(sex_list)))\n",
    "d=round(sex_list.count(\"M\")/len(sex_list)*int(len(shark_attacks['sex'])-len(sex_list)))\n",
    "# creamos una nueva lista con los elementos faltantes en proporción a los % que hemos obtenido antes.\n",
    "list1 = (\"F \"* c).split()\n",
    "list2 = (\"M \"* d).split()\n",
    "listrest = list1 + list2\n",
    "\n",
    "#añadimos la lista a los valores que ya tenemos para poder cambiar luego los valores.\n",
    "normalized_sex = []\n",
    "e=0\n",
    "for sex in shark_attacks['sex']:\n",
    "    sex= str(sex)\n",
    "    sex = str(sex.strip())\n",
    "    if sex == \"M\" or sex == \"F\":\n",
    "        normalized_sex.append(sex)\n",
    "    else:\n",
    "        normalized_sex.append(listrest[e])\n",
    "        e+=1"
   ]
  },
  {
   "cell_type": "code",
   "execution_count": 171,
   "metadata": {
    "ExecuteTime": {
     "end_time": "2020-02-06T06:31:11.417278Z",
     "start_time": "2020-02-06T06:31:11.409031Z"
    }
   },
   "outputs": [],
   "source": [
    "temp_normalized_sex = []\n",
    "for sex in normalized_sex:\n",
    "    if sex == \"M\":\n",
    "        sex = \"Male\"\n",
    "        temp_normalized_sex.append(sex)\n",
    "    elif sex == \"F\":\n",
    "        sex = \"Female\"\n",
    "        temp_normalized_sex.append(sex)\n",
    "normalized_sex = temp_normalized_sex"
   ]
  },
  {
   "cell_type": "code",
   "execution_count": 172,
   "metadata": {
    "ExecuteTime": {
     "end_time": "2020-02-06T06:31:12.102753Z",
     "start_time": "2020-02-06T06:31:12.097268Z"
    }
   },
   "outputs": [],
   "source": [
    "#Cambiamos los valores de la columna\n",
    "shark_attacks['sex'] = normalized_sex"
   ]
  },
  {
   "cell_type": "code",
   "execution_count": null,
   "metadata": {
    "ExecuteTime": {
     "end_time": "2020-02-05T10:37:24.522611Z",
     "start_time": "2020-02-05T10:37:24.506473Z"
    }
   },
   "outputs": [],
   "source": [
    "shark_attacks['sex'].value_counts()"
   ]
  },
  {
   "cell_type": "markdown",
   "metadata": {},
   "source": [
    "###### Opción 2:"
   ]
  },
  {
   "cell_type": "markdown",
   "metadata": {},
   "source": [
    "En esta opción sustituiremos los casos desconocidos por <CODE>'unknown'</CODE>"
   ]
  },
  {
   "cell_type": "code",
   "execution_count": 219,
   "metadata": {
    "ExecuteTime": {
     "end_time": "2020-02-06T06:37:07.420754Z",
     "start_time": "2020-02-06T06:37:07.408084Z"
    }
   },
   "outputs": [],
   "source": [
    "normalized_sex = []\n",
    "for sex in shark_attacks['sex']:\n",
    "    sex = str(sex)\n",
    "    if sex.strip() == \"M\" or sex.strip() == \"F\":\n",
    "        normalized_sex.append(sex.strip())\n",
    "    else:\n",
    "        normalized_sex.append('Unknown')"
   ]
  },
  {
   "cell_type": "code",
   "execution_count": 220,
   "metadata": {
    "ExecuteTime": {
     "end_time": "2020-02-06T06:37:07.693459Z",
     "start_time": "2020-02-06T06:37:07.682241Z"
    }
   },
   "outputs": [],
   "source": [
    "temp_normalized_sex = []\n",
    "for sex in normalized_sex:\n",
    "    if sex == \"M\":\n",
    "        sex = \"Male\"\n",
    "        temp_normalized_sex.append(sex)\n",
    "    elif sex == \"F\":\n",
    "        sex = \"Female\"\n",
    "        temp_normalized_sex.append(sex)\n",
    "    else:\n",
    "        temp_normalized_sex.append(sex)\n",
    "normalized_sex = temp_normalized_sex"
   ]
  },
  {
   "cell_type": "code",
   "execution_count": 221,
   "metadata": {
    "ExecuteTime": {
     "end_time": "2020-02-06T06:37:07.974610Z",
     "start_time": "2020-02-06T06:37:07.969389Z"
    }
   },
   "outputs": [],
   "source": [
    "#Cambiamos los valores de la columna\n",
    "shark_attacks['sex'] = normalized_sex"
   ]
  },
  {
   "cell_type": "markdown",
   "metadata": {},
   "source": [
    "Comprobamos que no tenemos <CODE>'NaN'</CODE>"
   ]
  },
  {
   "cell_type": "code",
   "execution_count": 222,
   "metadata": {
    "ExecuteTime": {
     "end_time": "2020-02-06T06:37:10.095218Z",
     "start_time": "2020-02-06T06:37:10.030664Z"
    }
   },
   "outputs": [
    {
     "data": {
      "text/plain": [
       "Male       4837\n",
       "Female      585\n",
       "Unknown     570\n",
       "Name: sex, dtype: int64"
      ]
     },
     "execution_count": 222,
     "metadata": {},
     "output_type": "execute_result"
    }
   ],
   "source": [
    "shark_attacks['sex'].value_counts()"
   ]
  },
  {
   "cell_type": "markdown",
   "metadata": {},
   "source": [
    "##### Age"
   ]
  },
  {
   "cell_type": "markdown",
   "metadata": {},
   "source": [
    "Para normalizar <CODE>'age'</CODE> analizaremos primero el tipo de valores que nos encontramos y la frecuencia con la que aparecen."
   ]
  },
  {
   "cell_type": "code",
   "execution_count": 223,
   "metadata": {
    "ExecuteTime": {
     "end_time": "2020-02-06T06:37:11.826688Z",
     "start_time": "2020-02-06T06:37:11.813080Z"
    }
   },
   "outputs": [
    {
     "data": {
      "text/plain": [
       "array(['16', '36', '43', nan, '60s', '51', '50', '12', '9', '22', '25',\n",
       "       '37', '20', '49', '15', '21', '40', '72', '18', '29', '31', '11',\n",
       "       '10', '59', '42', '34', '35', '19', '6', '27', '64', '60', '23',\n",
       "       '52', '13', '57', '48', '39', '24', '26', '69', '46', 'Teen', '41',\n",
       "       '45', '65', '38', '71', '32', '58', '28', '54', '44', '14', '7',\n",
       "       '62', '40s', '68', '47', '17', '30', '63', '70', '18 months', '53',\n",
       "       '20s', '33', '30s', '50s', '8', '61', '55', 'teen', '66', '77',\n",
       "       '74', '3', '56', '28 & 26', '5', '86', '18 or 20', '12 or 13',\n",
       "       '46 & 34', '28, 23 & 30', 'Teens', '36 & 26', '8 or 10', '84',\n",
       "       '� ', ' ', '30 or 36', '6�', '21 & ?', '75', '33 or 37', 'mid-30s',\n",
       "       '73', '23 & 20', '7      &    31', '20?', \"60's\", '32 & 30',\n",
       "       '16 to 18', '87', '67', 'Elderly', 'mid-20s', 'Ca. 33', '21 or 26',\n",
       "       '>50', '18 to 22', 'adult', '9 & 12', '? & 19', '9 months',\n",
       "       '25 to 35', '23 & 26', '1', '(adult)', '33 & 37', '25 or 28',\n",
       "       '37, 67, 35, 27,  ? & 27', '21, 34,24 & 35', '30 & 32', '50 & 30',\n",
       "       '17 & 35', 'X', '\"middle-age\"', '13 or 18', '34 & 19', '33 & 26',\n",
       "       '2 to 3 months', 'MAKE LINE GREEN', '81', '\"young\"', '7 or 8',\n",
       "       '78', '17 & 16', 'F', 'Both 11', '9 or 10', 'young', '36 & 23',\n",
       "       '  ', 'A.M.', '?    &   14', '10 or 12', '31 or 33', 'M', '2�',\n",
       "       '13 or 14'], dtype=object)"
      ]
     },
     "execution_count": 223,
     "metadata": {},
     "output_type": "execute_result"
    }
   ],
   "source": [
    "pd.unique(shark_attacks['age'])"
   ]
  },
  {
   "cell_type": "code",
   "execution_count": 224,
   "metadata": {
    "ExecuteTime": {
     "end_time": "2020-02-06T06:37:12.280302Z",
     "start_time": "2020-02-06T06:37:12.265747Z"
    }
   },
   "outputs": [
    {
     "data": {
      "text/plain": [
       "17             148\n",
       "18             145\n",
       "19             138\n",
       "20             136\n",
       "15             135\n",
       "              ... \n",
       "?    &   14      1\n",
       "M                1\n",
       "9 months         1\n",
       "(adult)          1\n",
       "13 or 18         1\n",
       "Name: age, Length: 151, dtype: int64"
      ]
     },
     "execution_count": 224,
     "metadata": {},
     "output_type": "execute_result"
    }
   ],
   "source": [
    "shark_attacks['age'].value_counts()"
   ]
  },
  {
   "cell_type": "code",
   "execution_count": 225,
   "metadata": {
    "ExecuteTime": {
     "end_time": "2020-02-06T06:37:12.612889Z",
     "start_time": "2020-02-06T06:37:12.585947Z"
    }
   },
   "outputs": [
    {
     "data": {
      "text/plain": [
       "array(['16', '36', '43', 'nan', '60s', '51', '50', '12', '9', '22', '25',\n",
       "       '37', '20', '49', '15', '21', '40', '72', '18', '29', '31', '11',\n",
       "       '10', '59', '42', '34', '35', '19', '6', '27', '64', '60', '23',\n",
       "       '52', '13', '57', '48', '39', '24', '26', '69', '46', 'teen', '41',\n",
       "       '45', '65', '38', '71', '32', '58', '28', '54', '44', '14', '7',\n",
       "       '62', '40s', '68', '47', '17', '30', '63', '70', '18_months', '53',\n",
       "       '20s', '33', '30s', '50s', '8', '61', '55', '66', '77', '74', '3',\n",
       "       '56', '28_&_26', '5', '86', '18_or_20', '12_or_13', '46_&_34',\n",
       "       '28,_23_&_30', 'teens', '36_&_26', '8_or_10', '84', '�', '',\n",
       "       '30_or_36', '6�', '21_&_', '75', '33_or_37', 'mid-30s', '73',\n",
       "       '23_&_20', '7___&__31', \"60's\", '32_&_30', '16_to_18', '87', '67',\n",
       "       'elderly', 'mid-20s', 'ca_33', '21_or_26', '>50', '18_to_22',\n",
       "       'adult', '9_&_12', '_&_19', '9_months', '25_to_35', '23_&_26', '1',\n",
       "       '33_&_37', '25_or_28', '37,_67,_35,_27,__&_27', '21,_34,24_&_35',\n",
       "       '30_&_32', '50_&_30', '17_&_35', 'x', '\"middle-age\"', '13_or_18',\n",
       "       '34_&_19', '33_&_26', '2_to_3_months', 'make_line_green', '81',\n",
       "       '\"young\"', '7_or_8', '78', '17_&_16', 'f', 'both_11', '9_or_10',\n",
       "       'young', '36_&_23', 'a_m_', '__&__14', '10_or_12', '31_or_33', 'm',\n",
       "       '2�', '13_or_14'], dtype=object)"
      ]
     },
     "execution_count": 225,
     "metadata": {},
     "output_type": "execute_result"
    }
   ],
   "source": [
    "shark_attacks['age']= clean(shark_attacks['age'])\n",
    "pd.unique(shark_attacks['age'])"
   ]
  },
  {
   "cell_type": "markdown",
   "metadata": {},
   "source": [
    "Vemos que los datos han sido tratados de forma muy diferente. Intentaremos agruparlos por categorías en el apartado de discretización."
   ]
  },
  {
   "cell_type": "markdown",
   "metadata": {},
   "source": [
    "##### Country"
   ]
  },
  {
   "cell_type": "markdown",
   "metadata": {},
   "source": [
    "Pasaremos el filtro de limpieza para normalizar los nombres de los paises."
   ]
  },
  {
   "cell_type": "code",
   "execution_count": 226,
   "metadata": {
    "ExecuteTime": {
     "end_time": "2020-02-06T06:37:13.676721Z",
     "start_time": "2020-02-06T06:37:13.666423Z"
    }
   },
   "outputs": [
    {
     "data": {
      "text/plain": [
       "array(['USA', 'AUSTRALIA', 'NEW CALEDONIA', 'REUNION', 'BAHAMAS', 'SPAIN',\n",
       "       'CHINA', 'JAPAN', 'COLUMBIA', 'SOUTH AFRICA', 'EGYPT',\n",
       "       'NEW ZEALAND', 'INDONESIA', 'FRENCH POLYNESIA', 'CAPE VERDE',\n",
       "       'Fiji', 'BRAZIL', 'DOMINICAN REPUBLIC', 'CAYMAN ISLANDS',\n",
       "       'UNITED ARAB EMIRATES', 'ARUBA', 'MOZAMBIQUE', 'THAILAND', 'FIJI',\n",
       "       'PUERTO RICO', 'ITALY', 'MEXICO', 'ATLANTIC OCEAN', 'GREECE',\n",
       "       'MAURITIUS', nan, 'ST. MARTIN', 'FRANCE', 'ECUADOR',\n",
       "       'PAPUA NEW GUINEA', 'TRINIDAD & TOBAGO', 'KIRIBATI', 'ISRAEL',\n",
       "       'DIEGO GARCIA', 'TAIWAN', 'JAMAICA', 'PALESTINIAN TERRITORIES',\n",
       "       'GUAM', 'SEYCHELLES', 'BELIZE', 'PHILIPPINES', 'NIGERIA', 'TONGA',\n",
       "       'SCOTLAND', 'CANADA', 'CROATIA', 'SAUDI ARABIA', 'CHILE',\n",
       "       'ANTIGUA', 'KENYA', 'RUSSIA', 'TURKS & CAICOS', 'COSTA RICA',\n",
       "       'UNITED KINGDOM', 'MALAYSIA', 'UNITED ARAB EMIRATES (UAE)',\n",
       "       'SAMOA', 'AZORES', 'SOLOMON ISLANDS', 'SOUTH KOREA', 'MALTA',\n",
       "       'VIETNAM', 'MADAGASCAR', 'PANAMA', 'SOMALIA', 'NEVIS', 'CUBA',\n",
       "       'ENGLAND', 'BRITISH VIRGIN ISLANDS', 'NORWAY', 'SENEGAL', 'YEMEN',\n",
       "       'GULF OF ADEN', 'Sierra Leone', 'ST. MAARTIN', 'GRAND CAYMAN',\n",
       "       'Seychelles', 'LIBERIA', 'VANUATU', 'MEXICO ', 'HONDURAS',\n",
       "       'VENEZUELA', 'SRI LANKA', ' TONGA', 'URUGUAY', 'INDIA',\n",
       "       'MICRONESIA', 'CARIBBEAN SEA', 'OKINAWA', 'TANZANIA',\n",
       "       'MARSHALL ISLANDS', 'EGYPT / ISRAEL', 'NORTHERN ARABIAN SEA',\n",
       "       'HONG KONG', 'EL SALVADOR', 'ANGOLA', 'BERMUDA', 'MONTENEGRO',\n",
       "       'IRAN', 'TUNISIA', 'NAMIBIA', 'NORTH ATLANTIC OCEAN', 'PORTUGAL',\n",
       "       'SOUTH CHINA SEA', 'BANGLADESH', 'PALAU', 'WESTERN SAMOA',\n",
       "       'PACIFIC OCEAN ', 'BRITISH ISLES', 'GRENADA', 'IRAQ', 'TURKEY',\n",
       "       'SINGAPORE', 'NEW BRITAIN', 'SUDAN', 'JOHNSTON ISLAND',\n",
       "       'SOUTH PACIFIC OCEAN', 'NEW GUINEA', 'RED SEA',\n",
       "       'NORTH PACIFIC OCEAN', 'FEDERATED STATES OF MICRONESIA',\n",
       "       'MID ATLANTIC OCEAN', 'ADMIRALTY ISLANDS', 'BRITISH WEST INDIES',\n",
       "       'SOUTH ATLANTIC OCEAN', 'PERSIAN GULF', 'RED SEA / INDIAN OCEAN',\n",
       "       'PACIFIC OCEAN', 'NORTH SEA', 'NICARAGUA ', 'MALDIVE ISLANDS',\n",
       "       'AMERICAN SAMOA', 'ANDAMAN / NICOBAR ISLANDAS', 'GABON', 'MAYOTTE',\n",
       "       'NORTH ATLANTIC OCEAN ', 'THE BALKANS', 'SUDAN?', 'ARGENTINA',\n",
       "       'MARTINIQUE', 'INDIAN OCEAN', 'GUATEMALA', 'NETHERLANDS ANTILLES',\n",
       "       'NORTHERN MARIANA ISLANDS', 'IRAN / IRAQ', 'JAVA', 'SIERRA LEONE',\n",
       "       ' PHILIPPINES', 'NICARAGUA', 'CENTRAL PACIFIC',\n",
       "       'SOLOMON ISLANDS / VANUATU', 'SOUTHWEST PACIFIC OCEAN',\n",
       "       'BAY OF BENGAL', 'MID-PACIFC OCEAN', 'SLOVENIA', 'CURACAO',\n",
       "       'ITALY / CROATIA', 'BARBADOS', 'MONACO', 'GUYANA', 'HAITI',\n",
       "       'SAN DOMINGO', 'IRELAND', 'KUWAIT', 'LIBYA', 'YEMEN ',\n",
       "       'MEDITERRANEAN SEA?', 'FALKLAND ISLANDS', 'CRETE', 'CYPRUS',\n",
       "       'EGYPT ', 'BURMA', 'LEBANON', 'PARAGUAY', 'BRITISH NEW GUINEA',\n",
       "       'OCEAN', 'GEORGIA', 'SYRIA', 'TUVALU', 'INDIAN OCEAN?', 'GUINEA',\n",
       "       'EQUATORIAL GUINEA / CAMEROON', 'COOK ISLANDS', 'ALGERIA',\n",
       "       'Coast of AFRICA', 'TASMAN SEA', 'GHANA', 'St Helena', 'GREENLAND',\n",
       "       'MEDITERRANEAN SEA', 'SWEDEN', 'ICELAND',\n",
       "       'Between PORTUGAL & INDIA', 'DJIBOUTI', 'BAHREIN', 'KOREA',\n",
       "       'RED SEA?', 'ASIA?', 'CEYLON (SRI LANKA)'], dtype=object)"
      ]
     },
     "execution_count": 226,
     "metadata": {},
     "output_type": "execute_result"
    }
   ],
   "source": [
    "pd.unique(shark_attacks['country'])"
   ]
  },
  {
   "cell_type": "code",
   "execution_count": 227,
   "metadata": {
    "ExecuteTime": {
     "end_time": "2020-02-06T06:37:14.042946Z",
     "start_time": "2020-02-06T06:37:14.027300Z"
    }
   },
   "outputs": [
    {
     "data": {
      "text/plain": [
       "USA                 2116\n",
       "AUSTRALIA           1279\n",
       "SOUTH AFRICA         565\n",
       "PAPUA NEW GUINEA     133\n",
       "NEW ZEALAND          125\n",
       "                    ... \n",
       "GULF OF ADEN           1\n",
       "THE BALKANS            1\n",
       "BANGLADESH             1\n",
       "MONACO                 1\n",
       "MEXICO                 1\n",
       "Name: country, Length: 203, dtype: int64"
      ]
     },
     "execution_count": 227,
     "metadata": {},
     "output_type": "execute_result"
    }
   ],
   "source": [
    "shark_attacks['country'].value_counts()"
   ]
  },
  {
   "cell_type": "code",
   "execution_count": 228,
   "metadata": {
    "ExecuteTime": {
     "end_time": "2020-02-06T06:37:14.409032Z",
     "start_time": "2020-02-06T06:37:14.384279Z"
    }
   },
   "outputs": [],
   "source": [
    "#Limpiaremos los nombres\n",
    "shark_attacks['country'] = [(str(i).title()).replace(\"_\",\" \")\n",
    "                                           for i in clean(shark_attacks['country'])]"
   ]
  },
  {
   "cell_type": "markdown",
   "metadata": {},
   "source": [
    "Nos pasa algo parecido que con las edades, los datos han sido tratados de forma diferente, no todos los valores son países. Podría ser interesante hacer una discretización por continentes."
   ]
  },
  {
   "cell_type": "markdown",
   "metadata": {},
   "source": [
    "#### Otros atributos"
   ]
  },
  {
   "cell_type": "code",
   "execution_count": 229,
   "metadata": {
    "ExecuteTime": {
     "end_time": "2020-02-06T06:37:15.283630Z",
     "start_time": "2020-02-06T06:37:15.276343Z"
    }
   },
   "outputs": [],
   "source": [
    "def nan_to_unknown (column):\n",
    "    \n",
    "    \"\"\"\n",
    "    ******************************\n",
    "    Convierte los NaN en 'unknown'\n",
    "    ******************************\n",
    "    \"\"\"\n",
    "    \n",
    "    w = column.fillna('Unknown')\n",
    "    return w"
   ]
  },
  {
   "cell_type": "code",
   "execution_count": 230,
   "metadata": {
    "ExecuteTime": {
     "end_time": "2020-02-06T06:37:15.671818Z",
     "start_time": "2020-02-06T06:37:15.664289Z"
    }
   },
   "outputs": [],
   "source": [
    "shark_attacks['species'] = nan_to_unknown(shark_attacks['species'])"
   ]
  },
  {
   "cell_type": "code",
   "execution_count": 231,
   "metadata": {
    "ExecuteTime": {
     "end_time": "2020-02-06T06:37:15.897677Z",
     "start_time": "2020-02-06T06:37:15.888656Z"
    }
   },
   "outputs": [],
   "source": [
    "shark_attacks['area'] = nan_to_unknown(shark_attacks['area'])"
   ]
  },
  {
   "cell_type": "code",
   "execution_count": 232,
   "metadata": {
    "ExecuteTime": {
     "end_time": "2020-02-06T06:37:16.108089Z",
     "start_time": "2020-02-06T06:37:16.098072Z"
    }
   },
   "outputs": [],
   "source": [
    "shark_attacks['location'] = nan_to_unknown(shark_attacks['location'])"
   ]
  },
  {
   "cell_type": "code",
   "execution_count": 233,
   "metadata": {
    "ExecuteTime": {
     "end_time": "2020-02-06T06:37:16.387596Z",
     "start_time": "2020-02-06T06:37:16.378325Z"
    }
   },
   "outputs": [],
   "source": [
    "shark_attacks['activity'] = nan_to_unknown(shark_attacks['activity'])"
   ]
  },
  {
   "cell_type": "markdown",
   "metadata": {},
   "source": [
    "### Discretización "
   ]
  },
  {
   "cell_type": "markdown",
   "metadata": {},
   "source": [
    "La <b>discretización</b> nos permite establecer un creterio por el cual podemos dividir los valores de un atributo en dos o más conjuntos."
   ]
  },
  {
   "cell_type": "markdown",
   "metadata": {},
   "source": [
    "#### Ages"
   ]
  },
  {
   "cell_type": "markdown",
   "metadata": {
    "ExecuteTime": {
     "end_time": "2020-02-05T10:05:35.570127Z",
     "start_time": "2020-02-05T10:05:35.555330Z"
    }
   },
   "source": [
    "En este punto intentaremos agrupar la edad de las víctimas por rangos:\n",
    "* <CODE>'Newborn'</CODE>: agrupará valores de 0 a 1 año,\n",
    "* <CODE>'Children'</CODE>: agrupará valores de 1 a 10 años,\n",
    "* <CODE>'Teen'</CODE>: agrupará valores de 10 a 19 años\n",
    "* <CODE>'Young'</CODE>: agrupará valores de los 20 a los 30 años,\n",
    "* <CODE>'Adult'</CODE>: agrupará valores de los 31 a los 55 años,\n",
    "* <CODE>'Senior'</CODE>: agrupará valores de los 56 a los 75 años,\n",
    "* <CODE>'Old'</CODE>: agrupará valores desde los 75 años."
   ]
  },
  {
   "cell_type": "code",
   "execution_count": 234,
   "metadata": {
    "ExecuteTime": {
     "end_time": "2020-02-06T06:37:18.008413Z",
     "start_time": "2020-02-06T06:37:17.930488Z"
    }
   },
   "outputs": [],
   "source": [
    "age_list = []\n",
    "ages_list = ['newborn', 'children','teen','young','adult','senior','old']\n",
    "        \n",
    "for row in shark_attacks['age']: \n",
    "    \n",
    "    get_row = \"\".join(re.findall('(months)',str(row)))\n",
    "    \n",
    "    if row.lower() in ages_list:\n",
    "        age_list.append(row.capitalize()) \n",
    "\n",
    "    else:\n",
    "        \n",
    "        age_row = \"\".join(re.findall('\\d{1,2}',str(row)))\n",
    "        age_row = re.sub('\\?','',age_row)\n",
    "        age_row = re.sub('\\&','',age_row)\n",
    "        \n",
    "        try:\n",
    "            if get_row == \"months\":\n",
    "                age_list.append('Newborn')\n",
    "            elif int(age_row) >= 1 and int(age_row) <= 10:\n",
    "                age_list.append('Children')\n",
    "            elif int(age_row)>10 and int(age_row)<20:\n",
    "                age_list.append('Teen')\n",
    "            elif int(age_row)>=20 and int(age_row)<=30:\n",
    "                age_list.append('Young')\n",
    "            elif int(age_row)>30 and int(age_row)<=55:\n",
    "                age_list.append('Adult')\n",
    "            elif int(age_row)>55 and int(age_row)<75:\n",
    "                age_list.append('Senior')\n",
    "            elif int(age_row)>=75:\n",
    "                age_list.append('Old')\n",
    "\n",
    "        except ValueError:\n",
    "            age_list.append('Unknown')"
   ]
  },
  {
   "cell_type": "code",
   "execution_count": 235,
   "metadata": {
    "ExecuteTime": {
     "end_time": "2020-02-06T06:37:18.208600Z",
     "start_time": "2020-02-06T06:37:18.200537Z"
    }
   },
   "outputs": [],
   "source": [
    "shark_attacks['age'] = age_list"
   ]
  },
  {
   "cell_type": "markdown",
   "metadata": {
    "ExecuteTime": {
     "end_time": "2020-02-05T10:06:21.975501Z",
     "start_time": "2020-02-05T10:06:21.971142Z"
    }
   },
   "source": [
    "#### Year to Century"
   ]
  },
  {
   "cell_type": "markdown",
   "metadata": {
    "ExecuteTime": {
     "end_time": "2020-02-05T08:55:18.238470Z",
     "start_time": "2020-02-05T08:55:18.212437Z"
    }
   },
   "source": [
    "Crearemos una columna nueva para agrupar los años por siglos. Crearemos una columna nueva con esta información a la que llamaremos <CODE>'century</CODE>.\n",
    "\n",
    "Esto nos será útil para su posterior visualización."
   ]
  },
  {
   "cell_type": "code",
   "execution_count": 236,
   "metadata": {
    "ExecuteTime": {
     "end_time": "2020-02-06T06:37:18.957547Z",
     "start_time": "2020-02-06T06:37:18.911809Z"
    }
   },
   "outputs": [],
   "source": [
    "centuries = []\n",
    "for year in shark_attacks['year']:\n",
    "    \n",
    "    if year <= 100:\n",
    "        centuries.append('I')\n",
    "    if year <= 200 and year > 100:\n",
    "        centuries.append('II')\n",
    "    if year <= 300 and year > 200:\n",
    "        centuries.append('III')\n",
    "    if year <= 400 and year > 300:\n",
    "        centuries.append('IV')\n",
    "    if year <= 500 and year > 400:\n",
    "        centuries.append('V')\n",
    "    if year <= 600 and year > 500:\n",
    "        centuries.append('VI')\n",
    "    if year <= 700 and year > 600:\n",
    "        centuries.append('VII')\n",
    "    if year <= 800 and year > 700:\n",
    "        centuries.append('VIII')\n",
    "    if year <= 900 and year > 800:\n",
    "        centuries.append('IX')\n",
    "    if year <= 1000 and year > 900:\n",
    "        centuries.append('X')\n",
    "    if year <= 1100 and year > 1000:\n",
    "        centuries.append('XI')\n",
    "    if year <= 1200 and year > 1100:\n",
    "        centuries.append('XII')\n",
    "    if year <= 1300 and year > 1200:\n",
    "        centuries.append('XIII')\n",
    "    if year <= 1400 and year > 1300:\n",
    "        centuries.append('XIV')\n",
    "    if year <= 1500 and year > 1400:\n",
    "        centuries.append('XV')\n",
    "    if year <= 1600 and year > 1500:\n",
    "        centuries.append('XVI')\n",
    "    if year <= 1700 and year > 1600:\n",
    "        centuries.append('XVII')\n",
    "    if year <= 1800 and year > 1700:\n",
    "        centuries.append('XVIII')\n",
    "    if year <= 1900 and year > 1800:\n",
    "        centuries.append('XIX')\n",
    "    if year <= 2000 and year > 1900:\n",
    "        centuries.append('XX')\n",
    "    if year <= 2100 and year > 2000:\n",
    "        centuries.append('XXI')\n",
    "    \n",
    "shark_attacks['century'] = centuries"
   ]
  },
  {
   "cell_type": "markdown",
   "metadata": {},
   "source": [
    "### Reducción de la dimensionalidad"
   ]
  },
  {
   "cell_type": "markdown",
   "metadata": {},
   "source": [
    "En este último paso antes de empezar con el análisis se busca trabajar con menos datos y obtener los mismos resultados. Para ello pasaremos a eliminar atributos que no nos aportan información relevante.\n",
    "\n",
    "\n",
    "Descartamos las columnas <CODE>'date'</CODE>, <CODE>'fatal_(y/n)'</CODE>, <CODE>'time'</CODE>, <CODE>'investigator_or_source'</CODE>, <CODE>'pdf'</CODE>, <CODE>'href_formula'</CODE>, <CODE>'href'</CODE>,<CODE>'case_number_1'</CODE>,<CODE>'case_number_2'</CODE>, <CODE>'original_order'</CODE>, <CODE>'unnamed_22'</CODE> y <CODE>'unnamed_23'</CODE>.\n",
    "\n",
    "La columna <CODE>'name'</CODE> también será eliminada por la RGPD.\n",
    "\n",
    "Y pasaremos a ordenar las columnas."
   ]
  },
  {
   "cell_type": "code",
   "execution_count": 237,
   "metadata": {
    "ExecuteTime": {
     "end_time": "2020-02-06T06:37:19.558565Z",
     "start_time": "2020-02-06T06:37:19.526772Z"
    }
   },
   "outputs": [],
   "source": [
    "shark_attacks = shark_attacks.drop(['date','name','type', 'injury', 'fatal_yn', 'time',\n",
    "                                    'investigator_or_source', 'pdf', 'href_formula', 'href',\n",
    "                                    'case_number_1', 'case_number_2', 'original_order', 'unnamed_22',\n",
    "                                    'unnamed_23'], axis=1)"
   ]
  },
  {
   "cell_type": "code",
   "execution_count": 240,
   "metadata": {
    "ExecuteTime": {
     "end_time": "2020-02-06T06:37:55.774791Z",
     "start_time": "2020-02-06T06:37:55.764524Z"
    }
   },
   "outputs": [],
   "source": [
    "#Reordenamos las columnas:\n",
    "\n",
    "column_order = ['case_number','year','century','sex','age',\n",
    "                'country','area','location', 'activity',\n",
    "                'type_attack', 'species']\n",
    "\n",
    "shark_attacks = shark_attacks[column_order]"
   ]
  },
  {
   "cell_type": "code",
   "execution_count": 241,
   "metadata": {
    "ExecuteTime": {
     "end_time": "2020-02-06T06:37:56.407065Z",
     "start_time": "2020-02-06T06:37:56.392368Z"
    }
   },
   "outputs": [
    {
     "data": {
      "text/plain": [
       "case_number    0\n",
       "year           0\n",
       "century        0\n",
       "sex            0\n",
       "age            0\n",
       "country        0\n",
       "area           0\n",
       "location       0\n",
       "activity       0\n",
       "type_attack    0\n",
       "species        0\n",
       "dtype: int64"
      ]
     },
     "execution_count": 241,
     "metadata": {},
     "output_type": "execute_result"
    }
   ],
   "source": [
    "shark_attacks.isnull().sum()"
   ]
  },
  {
   "cell_type": "code",
   "execution_count": 242,
   "metadata": {
    "ExecuteTime": {
     "end_time": "2020-02-06T06:37:57.339693Z",
     "start_time": "2020-02-06T06:37:57.313216Z"
    }
   },
   "outputs": [
    {
     "data": {
      "text/html": [
       "<div>\n",
       "<style scoped>\n",
       "    .dataframe tbody tr th:only-of-type {\n",
       "        vertical-align: middle;\n",
       "    }\n",
       "\n",
       "    .dataframe tbody tr th {\n",
       "        vertical-align: top;\n",
       "    }\n",
       "\n",
       "    .dataframe thead th {\n",
       "        text-align: right;\n",
       "    }\n",
       "</style>\n",
       "<table border=\"1\" class=\"dataframe\">\n",
       "  <thead>\n",
       "    <tr style=\"text-align: right;\">\n",
       "      <th></th>\n",
       "      <th>case_number</th>\n",
       "      <th>year</th>\n",
       "      <th>century</th>\n",
       "      <th>sex</th>\n",
       "      <th>age</th>\n",
       "      <th>country</th>\n",
       "      <th>area</th>\n",
       "      <th>location</th>\n",
       "      <th>activity</th>\n",
       "      <th>type_attack</th>\n",
       "      <th>species</th>\n",
       "    </tr>\n",
       "  </thead>\n",
       "  <tbody>\n",
       "    <tr>\n",
       "      <td>0</td>\n",
       "      <td>2016.09.18.c</td>\n",
       "      <td>2016</td>\n",
       "      <td>XXI</td>\n",
       "      <td>Male</td>\n",
       "      <td>Teen</td>\n",
       "      <td>Usa</td>\n",
       "      <td>Florida</td>\n",
       "      <td>New Smyrna Beach, Volusia County</td>\n",
       "      <td>Surfing</td>\n",
       "      <td>Unprovoked</td>\n",
       "      <td>Unknown</td>\n",
       "    </tr>\n",
       "    <tr>\n",
       "      <td>1</td>\n",
       "      <td>2016.09.18.b</td>\n",
       "      <td>2016</td>\n",
       "      <td>XXI</td>\n",
       "      <td>Male</td>\n",
       "      <td>Adult</td>\n",
       "      <td>Usa</td>\n",
       "      <td>Florida</td>\n",
       "      <td>New Smyrna Beach, Volusia County</td>\n",
       "      <td>Surfing</td>\n",
       "      <td>Unprovoked</td>\n",
       "      <td>Unknown</td>\n",
       "    </tr>\n",
       "    <tr>\n",
       "      <td>2</td>\n",
       "      <td>2016.09.18.a</td>\n",
       "      <td>2016</td>\n",
       "      <td>XXI</td>\n",
       "      <td>Male</td>\n",
       "      <td>Adult</td>\n",
       "      <td>Usa</td>\n",
       "      <td>Florida</td>\n",
       "      <td>New Smyrna Beach, Volusia County</td>\n",
       "      <td>Surfing</td>\n",
       "      <td>Unprovoked</td>\n",
       "      <td>Unknown</td>\n",
       "    </tr>\n",
       "    <tr>\n",
       "      <td>3</td>\n",
       "      <td>2016.09.17</td>\n",
       "      <td>2016</td>\n",
       "      <td>XXI</td>\n",
       "      <td>Male</td>\n",
       "      <td>Unknown</td>\n",
       "      <td>Australia</td>\n",
       "      <td>Victoria</td>\n",
       "      <td>Thirteenth Beach</td>\n",
       "      <td>Surfing</td>\n",
       "      <td>Unprovoked</td>\n",
       "      <td>Unknown</td>\n",
       "    </tr>\n",
       "    <tr>\n",
       "      <td>4</td>\n",
       "      <td>2016.09.15</td>\n",
       "      <td>2016</td>\n",
       "      <td>XXI</td>\n",
       "      <td>Male</td>\n",
       "      <td>Unknown</td>\n",
       "      <td>Australia</td>\n",
       "      <td>Victoria</td>\n",
       "      <td>Bells Beach</td>\n",
       "      <td>Surfing</td>\n",
       "      <td>Unprovoked</td>\n",
       "      <td>2 m shark</td>\n",
       "    </tr>\n",
       "    <tr>\n",
       "      <td>...</td>\n",
       "      <td>...</td>\n",
       "      <td>...</td>\n",
       "      <td>...</td>\n",
       "      <td>...</td>\n",
       "      <td>...</td>\n",
       "      <td>...</td>\n",
       "      <td>...</td>\n",
       "      <td>...</td>\n",
       "      <td>...</td>\n",
       "      <td>...</td>\n",
       "      <td>...</td>\n",
       "    </tr>\n",
       "    <tr>\n",
       "      <td>5987</td>\n",
       "      <td>ND.0005</td>\n",
       "      <td>1965</td>\n",
       "      <td>XX</td>\n",
       "      <td>Male</td>\n",
       "      <td>Unknown</td>\n",
       "      <td>Australia</td>\n",
       "      <td>Western Australia</td>\n",
       "      <td>Roebuck Bay</td>\n",
       "      <td>Diving</td>\n",
       "      <td>Unprovoked</td>\n",
       "      <td>Unknown</td>\n",
       "    </tr>\n",
       "    <tr>\n",
       "      <td>5988</td>\n",
       "      <td>ND.0004</td>\n",
       "      <td>1965</td>\n",
       "      <td>XX</td>\n",
       "      <td>Male</td>\n",
       "      <td>Unknown</td>\n",
       "      <td>Australia</td>\n",
       "      <td>Western Australia</td>\n",
       "      <td>Unknown</td>\n",
       "      <td>Pearl diving</td>\n",
       "      <td>Unprovoked</td>\n",
       "      <td>Unknown</td>\n",
       "    </tr>\n",
       "    <tr>\n",
       "      <td>5989</td>\n",
       "      <td>ND.0003</td>\n",
       "      <td>1965</td>\n",
       "      <td>XX</td>\n",
       "      <td>Male</td>\n",
       "      <td>Unknown</td>\n",
       "      <td>Usa</td>\n",
       "      <td>North Carolina</td>\n",
       "      <td>Ocracoke Inlet</td>\n",
       "      <td>Swimming</td>\n",
       "      <td>Unprovoked</td>\n",
       "      <td>Unknown</td>\n",
       "    </tr>\n",
       "    <tr>\n",
       "      <td>5990</td>\n",
       "      <td>ND.0002</td>\n",
       "      <td>1965</td>\n",
       "      <td>XX</td>\n",
       "      <td>Male</td>\n",
       "      <td>Unknown</td>\n",
       "      <td>Panama</td>\n",
       "      <td>Unknown</td>\n",
       "      <td>Panama Bay 8�N, 79�W</td>\n",
       "      <td>Unknown</td>\n",
       "      <td>Unprovoked</td>\n",
       "      <td>Unknown</td>\n",
       "    </tr>\n",
       "    <tr>\n",
       "      <td>5991</td>\n",
       "      <td>ND.0001</td>\n",
       "      <td>1965</td>\n",
       "      <td>XX</td>\n",
       "      <td>Male</td>\n",
       "      <td>Teen</td>\n",
       "      <td>Ceylon Sri Lanka</td>\n",
       "      <td>Eastern Province</td>\n",
       "      <td>Below the English fort, Trincomalee</td>\n",
       "      <td>Swimming</td>\n",
       "      <td>Unprovoked</td>\n",
       "      <td>Unknown</td>\n",
       "    </tr>\n",
       "  </tbody>\n",
       "</table>\n",
       "<p>5992 rows × 11 columns</p>\n",
       "</div>"
      ],
      "text/plain": [
       "       case_number  year century   sex      age           country  \\\n",
       "0     2016.09.18.c  2016     XXI  Male     Teen               Usa   \n",
       "1     2016.09.18.b  2016     XXI  Male    Adult               Usa   \n",
       "2     2016.09.18.a  2016     XXI  Male    Adult               Usa   \n",
       "3       2016.09.17  2016     XXI  Male  Unknown         Australia   \n",
       "4       2016.09.15  2016     XXI  Male  Unknown         Australia   \n",
       "...            ...   ...     ...   ...      ...               ...   \n",
       "5987       ND.0005  1965      XX  Male  Unknown         Australia   \n",
       "5988       ND.0004  1965      XX  Male  Unknown         Australia   \n",
       "5989       ND.0003  1965      XX  Male  Unknown               Usa   \n",
       "5990       ND.0002  1965      XX  Male  Unknown            Panama   \n",
       "5991       ND.0001  1965      XX  Male     Teen  Ceylon Sri Lanka   \n",
       "\n",
       "                   area                             location      activity  \\\n",
       "0               Florida     New Smyrna Beach, Volusia County       Surfing   \n",
       "1               Florida     New Smyrna Beach, Volusia County       Surfing   \n",
       "2               Florida     New Smyrna Beach, Volusia County       Surfing   \n",
       "3              Victoria                     Thirteenth Beach       Surfing   \n",
       "4              Victoria                          Bells Beach       Surfing   \n",
       "...                 ...                                  ...           ...   \n",
       "5987  Western Australia                          Roebuck Bay        Diving   \n",
       "5988  Western Australia                              Unknown  Pearl diving   \n",
       "5989     North Carolina                       Ocracoke Inlet      Swimming   \n",
       "5990            Unknown                 Panama Bay 8�N, 79�W       Unknown   \n",
       "5991   Eastern Province  Below the English fort, Trincomalee      Swimming   \n",
       "\n",
       "     type_attack    species  \n",
       "0     Unprovoked    Unknown  \n",
       "1     Unprovoked    Unknown  \n",
       "2     Unprovoked    Unknown  \n",
       "3     Unprovoked    Unknown  \n",
       "4     Unprovoked  2 m shark  \n",
       "...          ...        ...  \n",
       "5987  Unprovoked    Unknown  \n",
       "5988  Unprovoked    Unknown  \n",
       "5989  Unprovoked    Unknown  \n",
       "5990  Unprovoked    Unknown  \n",
       "5991  Unprovoked    Unknown  \n",
       "\n",
       "[5992 rows x 11 columns]"
      ]
     },
     "execution_count": 242,
     "metadata": {},
     "output_type": "execute_result"
    }
   ],
   "source": [
    "shark_attacks"
   ]
  },
  {
   "cell_type": "markdown",
   "metadata": {},
   "source": [
    "Guardamos nuestros datos en un CSV."
   ]
  },
  {
   "cell_type": "code",
   "execution_count": 243,
   "metadata": {
    "ExecuteTime": {
     "end_time": "2020-02-06T06:37:59.247628Z",
     "start_time": "2020-02-06T06:37:59.182067Z"
    }
   },
   "outputs": [],
   "source": [
    "shark_attacks.to_csv(\"../Datos/shark_attacks.csv\", index = False)"
   ]
  },
  {
   "cell_type": "markdown",
   "metadata": {},
   "source": [
    "## [BONUS] Visualización de resultados"
   ]
  },
  {
   "cell_type": "markdown",
   "metadata": {},
   "source": [
    "Como hemos visto un poco por encima los witgets intentaremos incluirlos para visualizar los datos."
   ]
  },
  {
   "cell_type": "code",
   "execution_count": 244,
   "metadata": {
    "ExecuteTime": {
     "end_time": "2020-02-06T06:38:00.654448Z",
     "start_time": "2020-02-06T06:38:00.649063Z"
    }
   },
   "outputs": [],
   "source": [
    "ALL = 'All'\n",
    "def unique_values_plus_ALL(array):\n",
    "    \n",
    "    \"\"\"\n",
    "    ********************************\n",
    "    Esta función saca los valores\n",
    "    únicos de una columna y le añade\n",
    "    All.\n",
    "    \n",
    "    Input = array\n",
    "    Output = valores únicos del array\n",
    "    + All.\n",
    "    ********************************\n",
    "    \"\"\"\n",
    "    \n",
    "    unique = array.unique().tolist()\n",
    "    unique.insert(0, ALL)\n",
    "    return unique"
   ]
  },
  {
   "cell_type": "markdown",
   "metadata": {},
   "source": [
    "Crearemos un primer desplegable que saque las estadísticas por columna."
   ]
  },
  {
   "cell_type": "code",
   "execution_count": 245,
   "metadata": {
    "ExecuteTime": {
     "end_time": "2020-02-06T06:38:01.717832Z",
     "start_time": "2020-02-06T06:38:01.652864Z"
    }
   },
   "outputs": [
    {
     "data": {
      "application/vnd.jupyter.widget-view+json": {
       "model_id": "32586475412344db99963e189a2070e4",
       "version_major": 2,
       "version_minor": 0
      },
      "text/plain": [
       "interactive(children=(Dropdown(description='column', options=('case_number', 'year', 'century', 'sex', 'age', …"
      ]
     },
     "metadata": {},
     "output_type": "display_data"
    }
   ],
   "source": [
    "@interact\n",
    "# El @interact es necesario para que funcione.\n",
    "def describe(column=list(shark_attacks.columns)):\n",
    "    \n",
    "    \"\"\"\n",
    "    ********************************************\n",
    "    Con esta función creamos un desplegable, al \n",
    "    seleccionar una de las columnas nos devolverá\n",
    "    los datos agregados\n",
    "    *********************************************\n",
    "    \"\"\"\n",
    "    \n",
    "    print(shark_attacks[column].describe())"
   ]
  },
  {
   "cell_type": "markdown",
   "metadata": {},
   "source": [
    "Con las siguientes líneas de código conseguimos que nos devuelva los datos según el filtro que le indiquemos."
   ]
  },
  {
   "cell_type": "code",
   "execution_count": 246,
   "metadata": {
    "ExecuteTime": {
     "end_time": "2020-02-06T06:38:02.806408Z",
     "start_time": "2020-02-06T06:38:02.793939Z"
    }
   },
   "outputs": [],
   "source": [
    "lista_century = unique_values_plus_ALL(shark_attacks.century)\n",
    "lista_age = unique_values_plus_ALL(shark_attacks.age)\n",
    "lista_sex = unique_values_plus_ALL(shark_attacks.sex)\n",
    "lista_type_attack = unique_values_plus_ALL(shark_attacks.type_attack)"
   ]
  },
  {
   "cell_type": "code",
   "execution_count": 247,
   "metadata": {
    "ExecuteTime": {
     "end_time": "2020-02-06T06:38:03.899043Z",
     "start_time": "2020-02-06T06:38:03.883894Z"
    }
   },
   "outputs": [],
   "source": [
    "#funcion\n",
    "def filtro(century, age, sex, type_attack):\n",
    "    \n",
    "    \"\"\"\n",
    "    **************************\n",
    "    Aplica el filtro a las 3\n",
    "    columnas que nos interesan.\n",
    "    **************************\n",
    "    \n",
    "    \"\"\"\n",
    "    \n",
    "    if (century == ALL) & (age == ALL) & (sex == ALL)& (type_attack == ALL):\n",
    "        filtrado = shark_attacks\n",
    "        \n",
    "    elif (century == ALL):\n",
    "        filtrado = shark_attacks.loc[(shark_attacks['age'] == age)& \n",
    "                             (shark_attacks['sex'] == sex) & (shark_attacks['type_attack'] == type_attack)]\n",
    "    elif (age == ALL):\n",
    "        filtrado = shark_attacks.loc[(shark_attacks['century'] == age)& \n",
    "                             (shark_attacks['sex'] == sex)&(shark_attacks['type_attack'] == type_attack)]\n",
    "    elif (sex == ALL):\n",
    "        filtrado = shark_attacks.loc[(shark_attacks['century'] == age)& \n",
    "                             (shark_attacks['age'] == sex)&(shark_attacks['type_attack'] == type_attack)]\n",
    "    elif (type_attack == ALL):\n",
    "        filtrado = shark_attacks.loc[(shark_attacks['century'] == age)& \n",
    "                             (shark_attacks['age'] == sex)&(shark_attacks['sex'] == sex)]\n",
    "    else:\n",
    "        filtrado = shark_attacks.loc[(shark_attacks['century'] == century) &\n",
    "                             (shark_attacks['age'] == age) & \n",
    "                             (shark_attacks['sex'] == sex) & (shark_attacks['type_attack'] == type_attack)]\n",
    "        \n",
    "    return filtrado"
   ]
  },
  {
   "cell_type": "markdown",
   "metadata": {},
   "source": [
    "Filtro final:"
   ]
  },
  {
   "cell_type": "code",
   "execution_count": 250,
   "metadata": {
    "ExecuteTime": {
     "end_time": "2020-02-06T06:39:46.945235Z",
     "start_time": "2020-02-06T06:39:46.799098Z"
    }
   },
   "outputs": [
    {
     "data": {
      "application/vnd.jupyter.widget-view+json": {
       "model_id": "874e61772ec4486d9838211dcb12243e",
       "version_major": 2,
       "version_minor": 0
      },
      "text/plain": [
       "interactive(children=(Dropdown(description='century', options=('All', 'XXI', 'XX', 'XIX', 'XVIII', 'XVII', 'XV…"
      ]
     },
     "metadata": {},
     "output_type": "display_data"
    }
   ],
   "source": [
    "interact (filtro, \n",
    "          century = lista_century,\n",
    "          age = lista_age,\n",
    "          sex = lista_sex, \n",
    "          type_attack = lista_type_attack);"
   ]
  },
  {
   "cell_type": "code",
   "execution_count": null,
   "metadata": {},
   "outputs": [],
   "source": []
  }
 ],
 "metadata": {
  "kernelspec": {
   "display_name": "Python 3",
   "language": "python",
   "name": "python3"
  },
  "language_info": {
   "codemirror_mode": {
    "name": "ipython",
    "version": 3
   },
   "file_extension": ".py",
   "mimetype": "text/x-python",
   "name": "python",
   "nbconvert_exporter": "python",
   "pygments_lexer": "ipython3",
   "version": "3.7.4"
  },
  "toc": {
   "base_numbering": 1,
   "nav_menu": {},
   "number_sections": true,
   "sideBar": true,
   "skip_h1_title": false,
   "title_cell": "Table of Contents",
   "title_sidebar": "Contents",
   "toc_cell": false,
   "toc_position": {},
   "toc_section_display": true,
   "toc_window_display": false
  },
  "varInspector": {
   "cols": {
    "lenName": 16,
    "lenType": 16,
    "lenVar": 40
   },
   "kernels_config": {
    "python": {
     "delete_cmd_postfix": "",
     "delete_cmd_prefix": "del ",
     "library": "var_list.py",
     "varRefreshCmd": "print(var_dic_list())"
    },
    "r": {
     "delete_cmd_postfix": ") ",
     "delete_cmd_prefix": "rm(",
     "library": "var_list.r",
     "varRefreshCmd": "cat(var_dic_list()) "
    }
   },
   "types_to_exclude": [
    "module",
    "function",
    "builtin_function_or_method",
    "instance",
    "_Feature"
   ],
   "window_display": false
  }
 },
 "nbformat": 4,
 "nbformat_minor": 2
}
