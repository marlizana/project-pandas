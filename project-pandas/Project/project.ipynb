{
 "cells": [
  {
   "cell_type": "markdown",
   "metadata": {
    "ExecuteTime": {
     "end_time": "2020-01-30T19:00:25.616644Z",
     "start_time": "2020-01-30T19:00:23.749385Z"
    }
   },
   "source": [
    "<img src=\"../Imagenes/1.jpg\">"
   ]
  },
  {
   "cell_type": "markdown",
   "metadata": {},
   "source": [
    "# Proyecto Pandas - Ataque de tiburones"
   ]
  },
  {
   "cell_type": "markdown",
   "metadata": {},
   "source": [
    "## Origen y descripción de los datos"
   ]
  },
  {
   "cell_type": "markdown",
   "metadata": {},
   "source": [
    "El .csv a importar aporta datos sobre ataques de tiburones recopilados por <i>Global Shark Attack File</i>. \n",
    "\n",
    "Para más información sobre la base de datos consultar <a href=\"http://www.sharkattackfile.net/\">aquí</a>."
   ]
  },
  {
   "cell_type": "markdown",
   "metadata": {},
   "source": [
    "## Preparación de los datos"
   ]
  },
  {
   "cell_type": "markdown",
   "metadata": {},
   "source": [
    "<img src=\"../Imagenes/p1.jpg\">"
   ]
  },
  {
   "cell_type": "markdown",
   "metadata": {},
   "source": [
    "### Librerías"
   ]
  },
  {
   "cell_type": "markdown",
   "metadata": {},
   "source": [
    "Importamos las librerías necesarias para el desarrollo de la tarea."
   ]
  },
  {
   "cell_type": "code",
   "execution_count": null,
   "metadata": {
    "ExecuteTime": {
     "end_time": "2020-02-06T10:43:57.459852Z",
     "start_time": "2020-02-06T10:43:55.370318Z"
    }
   },
   "outputs": [],
   "source": [
    "import pandas as pd\n",
    "import numpy as np\n",
    "import re\n",
    "import ipywidgets as widgets\n",
    "from IPython.display import display\n",
    "from ipywidgets import interact, interact_manual"
   ]
  },
  {
   "cell_type": "markdown",
   "metadata": {},
   "source": [
    "### Exploración y primera toma de contacto con los datos"
   ]
  },
  {
   "cell_type": "markdown",
   "metadata": {},
   "source": [
    "* Importamos el dataset y lo renombramos."
   ]
  },
  {
   "cell_type": "code",
   "execution_count": null,
   "metadata": {
    "ExecuteTime": {
     "end_time": "2020-02-06T10:43:58.323963Z",
     "start_time": "2020-02-06T10:43:58.142027Z"
    }
   },
   "outputs": [],
   "source": [
    "shark_attacks = pd.read_csv(\"../Datos/GSAF5.csv\", engine = \"python\") "
   ]
  },
  {
   "cell_type": "markdown",
   "metadata": {},
   "source": [
    "* Este comando nos mostrará el tamaño total de nuestra base de datos."
   ]
  },
  {
   "cell_type": "code",
   "execution_count": null,
   "metadata": {
    "ExecuteTime": {
     "end_time": "2020-02-06T10:43:59.387051Z",
     "start_time": "2020-02-06T10:43:59.370926Z"
    }
   },
   "outputs": [],
   "source": [
    "shark_attacks.shape"
   ]
  },
  {
   "cell_type": "markdown",
   "metadata": {},
   "source": [
    "* Vemos el nombre de las columnas de nuestro <i>dataset</i>."
   ]
  },
  {
   "cell_type": "code",
   "execution_count": null,
   "metadata": {
    "ExecuteTime": {
     "end_time": "2020-02-06T10:44:00.382045Z",
     "start_time": "2020-02-06T10:44:00.352343Z"
    }
   },
   "outputs": [],
   "source": [
    "shark_attacks.columns"
   ]
  },
  {
   "cell_type": "markdown",
   "metadata": {},
   "source": [
    "Podemos empezar a observar que los nombres de las columnas no están normalizados. Posibles cosas a arreglar serían las minúsculas/mayúsculas, borrar los espacios que se ven al final y estandarizar la puntuación por '_'."
   ]
  },
  {
   "cell_type": "markdown",
   "metadata": {},
   "source": [
    "* Vemos los tipos de datos que hay en las diferentes columnas."
   ]
  },
  {
   "cell_type": "code",
   "execution_count": null,
   "metadata": {
    "ExecuteTime": {
     "end_time": "2020-02-06T10:44:01.059227Z",
     "start_time": "2020-02-06T10:44:01.048906Z"
    }
   },
   "outputs": [],
   "source": [
    "shark_attacks.dtypes"
   ]
  },
  {
   "cell_type": "markdown",
   "metadata": {
    "ExecuteTime": {
     "end_time": "2020-01-30T19:15:49.805120Z",
     "start_time": "2020-01-30T19:15:49.786015Z"
    }
   },
   "source": [
    "* Hacemos una primera visualización de los datos"
   ]
  },
  {
   "cell_type": "code",
   "execution_count": null,
   "metadata": {
    "ExecuteTime": {
     "end_time": "2020-02-06T10:44:01.542874Z",
     "start_time": "2020-02-06T10:44:01.502915Z"
    }
   },
   "outputs": [],
   "source": [
    "shark_attacks.head()"
   ]
  },
  {
   "cell_type": "code",
   "execution_count": null,
   "metadata": {
    "ExecuteTime": {
     "end_time": "2020-02-06T10:44:02.000361Z",
     "start_time": "2020-02-06T10:44:01.955679Z"
    }
   },
   "outputs": [],
   "source": [
    "shark_attacks.tail()"
   ]
  },
  {
   "cell_type": "markdown",
   "metadata": {},
   "source": [
    "Comparando los primeros registros con los últimos y podemos observar como <CODE>'Case Number'</CODE> y <CODE>Date</CODE> presentan formatos diferentes, <CODE>'Year'</CODE> tiene valores a 0, en <CODE>Name</CODE> hay elementos que deberían ir en <CODE>Sex</CODE>, etc. Pasaremos a observar los atributos que nos interesen con más detalle más adelante.\n",
    "\n",
    "Las columnas <CODE>'name'</CODE>, <CODE>'fatal_(y/n)'</CODE>, <CODE>'time'</CODE>, <CODE>'investigator_or_source'</CODE>, <CODE>'pdf'</CODE>, <CODE>'href_formula'</CODE>, <CODE>'href'</CODE>,<CODE>'case_number_1'</CODE>,<CODE>'case_number_2'</CODE>, <CODE>'original_order'</CODE> no aportan información relevante para analizar."
   ]
  },
  {
   "cell_type": "markdown",
   "metadata": {},
   "source": [
    "* Con esto vemos la cantidad de <CODE>'NaN'</CODE> con los que nos encontramos."
   ]
  },
  {
   "cell_type": "code",
   "execution_count": null,
   "metadata": {
    "ExecuteTime": {
     "end_time": "2020-02-06T10:44:02.376129Z",
     "start_time": "2020-02-06T10:44:02.353923Z"
    }
   },
   "outputs": [],
   "source": [
    "shark_attacks.isnull().sum()"
   ]
  },
  {
   "cell_type": "markdown",
   "metadata": {},
   "source": [
    "Primeras observaciones en relación a los <CODE>NaN</CODE>:\n",
    "\n",
    "\n",
    "* Vemos que las columnas <CODE>'unnamed_22'</CODE> y <CODE>'unnamed_23'</CODE> tienen casi todos los valores <CODE>NaN</CODE>.\n",
    "\n",
    "\n",
    "* La columna <CODE>'Time'</CODE> tiene más de la mitad de los registros como <CODE>NaN</CODE>. \n",
    "\n",
    "\n",
    "* Las columnas <CODE>'Age'</CODE> y <CODE>'Species'</CODE> se acercan a la mitad de registros como <CODE>NaN</CODE>.\n"
   ]
  },
  {
   "cell_type": "markdown",
   "metadata": {},
   "source": [
    "## Limpieza de datos"
   ]
  },
  {
   "cell_type": "markdown",
   "metadata": {},
   "source": [
    "La <b>limpieza de datos </b> es el proceso que sufren los datos en los que se eliminan los que sean erróneos, redundantes o incompletos."
   ]
  },
  {
   "cell_type": "markdown",
   "metadata": {},
   "source": [
    "### Normalización de los nombres de los atributos"
   ]
  },
  {
   "cell_type": "code",
   "execution_count": null,
   "metadata": {
    "ExecuteTime": {
     "end_time": "2020-02-06T10:44:03.411541Z",
     "start_time": "2020-02-06T10:44:03.402728Z"
    },
    "code_folding": []
   },
   "outputs": [],
   "source": [
    "def clean (words):\n",
    "    \n",
    "    \"\"\"\n",
    "    ****************************************************\n",
    "    Función para limpiar la información,\n",
    "    pasar la primera a mayúculas y el resto a minúscula,\n",
    "    eliminaremos espacios innecesarios, el resto serán\n",
    "    sustituidos por '_', igual que otros elementos de\n",
    "    puntuación?\n",
    "    \n",
    "    Input : lista\n",
    "    Output : lista\n",
    "    ****************************************************\n",
    "    \n",
    "    \"\"\"\n",
    "    c = []\n",
    "    for word in words:\n",
    "        word = str(word).lower()\n",
    "        word = word.strip()\n",
    "        word = word.replace(\".\", ' ')\n",
    "        word = word.replace(\" \", '_')\n",
    "        word = word.replace(\":\", '_')\n",
    "        word = word.replace(\"__\", '_')\n",
    "        word = word.replace (\"/\", \"\")\n",
    "        word = word.replace (\"?\", \"\")\n",
    "        word = word.replace (\"(\", \"\")\n",
    "        word = word.replace (\")\", \"\")\n",
    "        \n",
    "        c.append (word)\n",
    "    return c"
   ]
  },
  {
   "cell_type": "code",
   "execution_count": null,
   "metadata": {
    "ExecuteTime": {
     "end_time": "2020-02-06T10:44:03.890329Z",
     "start_time": "2020-02-06T10:44:03.883169Z"
    },
    "code_folding": []
   },
   "outputs": [],
   "source": [
    "def change_names (list1, list2):\n",
    "    \n",
    "    \"\"\"\n",
    "    *****************************************\n",
    "    Convierte a diccionario dos listas dadas\n",
    "    *****************************************\n",
    "    \"\"\"\n",
    "    \n",
    "    dictchange = dict(zip(list(list1), list(list2)))\n",
    "    return dictchange"
   ]
  },
  {
   "cell_type": "code",
   "execution_count": null,
   "metadata": {
    "ExecuteTime": {
     "end_time": "2020-02-06T10:44:04.344742Z",
     "start_time": "2020-02-06T10:44:04.313808Z"
    },
    "code_folding": []
   },
   "outputs": [],
   "source": [
    "#Renombramos las columnas.\n",
    "shark_attacks = shark_attacks.rename(columns = change_names(shark_attacks.columns, clean(shark_attacks.columns)))"
   ]
  },
  {
   "cell_type": "code",
   "execution_count": null,
   "metadata": {
    "ExecuteTime": {
     "end_time": "2020-02-06T10:44:04.812724Z",
     "start_time": "2020-02-06T10:44:04.798310Z"
    }
   },
   "outputs": [],
   "source": [
    "shark_attacks.columns"
   ]
  },
  {
   "cell_type": "markdown",
   "metadata": {},
   "source": [
    "### Normalización y transformación de datos "
   ]
  },
  {
   "cell_type": "markdown",
   "metadata": {},
   "source": [
    "En este apartado nos centraremos en normalizar algunas de las columnas que pueden interesarnos. "
   ]
  },
  {
   "cell_type": "markdown",
   "metadata": {},
   "source": [
    "#### Year"
   ]
  },
  {
   "cell_type": "markdown",
   "metadata": {},
   "source": [
    "Vemos como los datos referentes a la fecha del ataque del tiburon no presentan el mismo formato, intentaremos extraer los años de forma estandarizada para facilitar su posterior análisis."
   ]
  },
  {
   "cell_type": "code",
   "execution_count": null,
   "metadata": {
    "ExecuteTime": {
     "end_time": "2020-02-06T10:44:05.996332Z",
     "start_time": "2020-02-06T10:44:05.982124Z"
    }
   },
   "outputs": [],
   "source": [
    "shark_attacks['year'].value_counts()"
   ]
  },
  {
   "cell_type": "code",
   "execution_count": null,
   "metadata": {
    "ExecuteTime": {
     "end_time": "2020-02-06T10:44:06.565605Z",
     "start_time": "2020-02-06T10:44:06.425056Z"
    },
    "code_folding": []
   },
   "outputs": [],
   "source": [
    "\"\"\"\n",
    "**************************************************\n",
    "En los casos en los que el campo 'year' está a 0, \n",
    "buscamos si en 'date' está el año.\n",
    "Si se encuentra con dos fechas hace una media.\n",
    "Si no encuentra información en ninguna de las columnas\n",
    "añadirá la media.\n",
    "**************************************************\n",
    "\"\"\"\n",
    "\n",
    "year_lst = []\n",
    "year_lst1 = list(shark_attacks['year'])\n",
    "        \n",
    "for row in shark_attacks['date']:\n",
    "    temp_row = ''.join(re.findall('\\-*\\d{4}',row))\n",
    "    temp_row = re.sub('\\-','',temp_row)\n",
    "\n",
    "    if len(str(temp_row))>4:\n",
    "        temp_row = int((int(temp_row[0:4]) + int(temp_row [4:8]))/2)\n",
    "        year_lst.append(temp_row)\n",
    "    else:\n",
    "        year_lst.append(temp_row)\n",
    "\n",
    "normalized_years = []\n",
    "e = 0       \n",
    "for year in year_lst1:\n",
    "    try:\n",
    "        if year != 0:\n",
    "            normalized_years.append(int(year))\n",
    "            e+=1\n",
    "        elif year == 0:\n",
    "            normalized_years.append(int(year_lst[e]))\n",
    "            e+=1\n",
    "    except ValueError:\n",
    "        normalized_years.append((int(np.mean(normalized_years))))\n",
    "        \n",
    "        \n",
    "shark_attacks['year'] = normalized_years"
   ]
  },
  {
   "cell_type": "markdown",
   "metadata": {},
   "source": [
    "#### Type"
   ]
  },
  {
   "cell_type": "markdown",
   "metadata": {},
   "source": [
    "El atributo <CODE>'type' </CODE> está bastante limpio, solo cambiaremos <CODE>'Boating'</CODE> por <CODE>'Boat</CODE>."
   ]
  },
  {
   "cell_type": "code",
   "execution_count": null,
   "metadata": {
    "ExecuteTime": {
     "end_time": "2020-02-06T10:44:06.999355Z",
     "start_time": "2020-02-06T10:44:06.984859Z"
    }
   },
   "outputs": [],
   "source": [
    "shark_attacks['type'].value_counts()"
   ]
  },
  {
   "cell_type": "code",
   "execution_count": null,
   "metadata": {
    "ExecuteTime": {
     "end_time": "2020-02-06T10:44:07.511813Z",
     "start_time": "2020-02-06T10:44:07.474574Z"
    }
   },
   "outputs": [],
   "source": [
    "shark_attacks['type_attack'] = [re.sub(\"Boat\", \"Boating\",re.sub(\"ing\", \"\", i)) for i in shark_attacks['type']]"
   ]
  },
  {
   "cell_type": "code",
   "execution_count": null,
   "metadata": {
    "ExecuteTime": {
     "end_time": "2020-02-06T10:44:07.988504Z",
     "start_time": "2020-02-06T10:44:07.978230Z"
    }
   },
   "outputs": [],
   "source": [
    "shark_attacks['type_attack'].value_counts()"
   ]
  },
  {
   "cell_type": "markdown",
   "metadata": {
    "ExecuteTime": {
     "end_time": "2020-02-01T07:09:56.366778Z",
     "start_time": "2020-02-01T07:09:56.281080Z"
    }
   },
   "source": [
    "#### Atributos del accidentado"
   ]
  },
  {
   "cell_type": "markdown",
   "metadata": {},
   "source": [
    "##### Sex"
   ]
  },
  {
   "cell_type": "markdown",
   "metadata": {},
   "source": [
    "Analizamos los valores que nos encontramos en <CODE>'sex'</CODE> para proceder a su normalización. Veremos cuantos valores hay de cada una de las opciones. También tendremos en cuenta los <b>567</b> valores <CODE>'NaN'</CODE> que vimos durante el proceso de exploración."
   ]
  },
  {
   "cell_type": "code",
   "execution_count": null,
   "metadata": {
    "ExecuteTime": {
     "end_time": "2020-02-06T10:44:08.982799Z",
     "start_time": "2020-02-06T10:44:08.972011Z"
    }
   },
   "outputs": [],
   "source": [
    "shark_attacks['sex'].value_counts()"
   ]
  },
  {
   "cell_type": "markdown",
   "metadata": {},
   "source": [
    "Ejecutar solo una de las dos opciones:"
   ]
  },
  {
   "cell_type": "markdown",
   "metadata": {},
   "source": [
    "###### Opción 1:"
   ]
  },
  {
   "cell_type": "markdown",
   "metadata": {},
   "source": [
    "Para normalizar el resto de elementos, modificaremos las observaciones en función del porcentaje de cada sexo."
   ]
  },
  {
   "cell_type": "code",
   "execution_count": null,
   "metadata": {
    "ExecuteTime": {
     "end_time": "2020-02-06T08:47:37.983740Z",
     "start_time": "2020-02-06T08:47:37.972243Z"
    }
   },
   "outputs": [],
   "source": [
    "sex_list=[]\n",
    "for sex in shark_attacks['sex']:\n",
    "    \n",
    "    \"\"\"\n",
    "    ******************************************************************\n",
    "    Con este primer paso inclumos el mayor número de valores correctos\n",
    "    eliminando los posibles espacios que encontremos.\n",
    "    ******************************************************************\n",
    "    \"\"\"\n",
    "    \n",
    "    sex = str(sex)\n",
    "    if sex.strip() == \"M\" or sex.strip() == \"F\":\n",
    "        sex_list.append(sex.strip())"
   ]
  },
  {
   "cell_type": "markdown",
   "metadata": {},
   "source": [
    "En esta opción nos centraremos en:\n",
    "\n",
    "1- sacar % de <CODE>'M'</CODE> y de <CODE>'F'</CODE>,                                         \n",
    "2- buscar la forma de repartir ese % en el resto de observaciones."
   ]
  },
  {
   "cell_type": "code",
   "execution_count": null,
   "metadata": {
    "ExecuteTime": {
     "end_time": "2020-02-06T08:47:39.371362Z",
     "start_time": "2020-02-06T08:47:39.355623Z"
    }
   },
   "outputs": [],
   "source": [
    "# % de 'm' y de 'f'\n",
    "c=round(sex_list.count(\"F\")/len(sex_list)*int(len(shark_attacks['sex'])-len(sex_list)))\n",
    "d=round(sex_list.count(\"M\")/len(sex_list)*int(len(shark_attacks['sex'])-len(sex_list)))\n",
    "\n",
    "# creamos una nueva lista con los elementos faltantes en proporción a los % que hemos obtenido antes.\n",
    "list1 = (\"F \"* c).split()\n",
    "list2 = (\"M \"* d).split()\n",
    "listrest = list1 + list2\n",
    "\n",
    "#añadimos la lista a los valores que ya tenemos para poder cambiar luego los valores.\n",
    "normalized_sex = []\n",
    "e=0\n",
    "for sex in shark_attacks['sex']:\n",
    "    sex= str(sex)\n",
    "    sex = str(sex.strip())\n",
    "    if sex == \"M\" or sex == \"F\":\n",
    "        normalized_sex.append(sex)\n",
    "    else:\n",
    "        normalized_sex.append(listrest[e])\n",
    "        e+=1"
   ]
  },
  {
   "cell_type": "code",
   "execution_count": null,
   "metadata": {
    "ExecuteTime": {
     "end_time": "2020-02-06T08:47:40.569874Z",
     "start_time": "2020-02-06T08:47:40.557159Z"
    }
   },
   "outputs": [],
   "source": [
    "temp_normalized_sex = []\n",
    "for sex in normalized_sex:\n",
    "    #Cambiamos los valores a :\n",
    "    if sex == \"M\":\n",
    "        sex = \"Male\"\n",
    "        temp_normalized_sex.append(sex)\n",
    "    elif sex == \"F\":\n",
    "        sex = \"Female\"\n",
    "        temp_normalized_sex.append(sex)\n",
    "normalized_sex = temp_normalized_sex"
   ]
  },
  {
   "cell_type": "code",
   "execution_count": null,
   "metadata": {
    "ExecuteTime": {
     "end_time": "2020-02-06T08:47:41.022580Z",
     "start_time": "2020-02-06T08:47:41.016950Z"
    }
   },
   "outputs": [],
   "source": [
    "#Cambiamos los valores de la columna\n",
    "shark_attacks['sex'] = normalized_sex"
   ]
  },
  {
   "cell_type": "code",
   "execution_count": null,
   "metadata": {
    "ExecuteTime": {
     "end_time": "2020-02-06T08:47:41.487942Z",
     "start_time": "2020-02-06T08:47:41.474499Z"
    }
   },
   "outputs": [],
   "source": [
    "shark_attacks['sex'].value_counts()"
   ]
  },
  {
   "cell_type": "markdown",
   "metadata": {},
   "source": [
    "###### Opción 2:"
   ]
  },
  {
   "cell_type": "markdown",
   "metadata": {},
   "source": [
    "En esta opción sustituiremos los casos desconocidos por <CODE>'unknown'</CODE>"
   ]
  },
  {
   "cell_type": "code",
   "execution_count": null,
   "metadata": {
    "ExecuteTime": {
     "end_time": "2020-02-06T10:44:16.433737Z",
     "start_time": "2020-02-06T10:44:16.418992Z"
    }
   },
   "outputs": [],
   "source": [
    "normalized_sex = []\n",
    "for sex in shark_attacks['sex']:\n",
    "    sex = str(sex)\n",
    "    if sex.strip() == \"M\" or sex.strip() == \"F\":\n",
    "        normalized_sex.append(sex.strip())\n",
    "    else:\n",
    "        normalized_sex.append('Unknown')"
   ]
  },
  {
   "cell_type": "code",
   "execution_count": null,
   "metadata": {
    "ExecuteTime": {
     "end_time": "2020-02-06T10:44:16.941952Z",
     "start_time": "2020-02-06T10:44:16.933689Z"
    }
   },
   "outputs": [],
   "source": [
    "temp_normalized_sex = []\n",
    "for sex in normalized_sex:\n",
    "    #Cambiamos los valores a :\n",
    "    if sex == \"M\":\n",
    "        sex = \"Male\"\n",
    "        temp_normalized_sex.append(sex)\n",
    "    elif sex == \"F\":\n",
    "        sex = \"Female\"\n",
    "        temp_normalized_sex.append(sex)\n",
    "    else:\n",
    "        temp_normalized_sex.append(sex)\n",
    "normalized_sex = temp_normalized_sex"
   ]
  },
  {
   "cell_type": "code",
   "execution_count": null,
   "metadata": {
    "ExecuteTime": {
     "end_time": "2020-02-06T10:44:17.556386Z",
     "start_time": "2020-02-06T10:44:17.544876Z"
    }
   },
   "outputs": [],
   "source": [
    "#Cambiamos los valores de la columna\n",
    "shark_attacks['sex'] = normalized_sex"
   ]
  },
  {
   "cell_type": "markdown",
   "metadata": {},
   "source": [
    "Comprobamos que no tenemos <CODE>'NaN'</CODE>"
   ]
  },
  {
   "cell_type": "code",
   "execution_count": null,
   "metadata": {
    "ExecuteTime": {
     "end_time": "2020-02-06T10:44:18.589233Z",
     "start_time": "2020-02-06T10:44:18.574456Z"
    }
   },
   "outputs": [],
   "source": [
    "shark_attacks['sex'].value_counts()"
   ]
  },
  {
   "cell_type": "markdown",
   "metadata": {},
   "source": [
    "##### Age"
   ]
  },
  {
   "cell_type": "markdown",
   "metadata": {},
   "source": [
    "Para normalizar <CODE>'age'</CODE> analizaremos primero el tipo de valores que nos encontramos y la frecuencia con la que aparecen."
   ]
  },
  {
   "cell_type": "code",
   "execution_count": null,
   "metadata": {
    "ExecuteTime": {
     "end_time": "2020-02-06T10:44:19.455721Z",
     "start_time": "2020-02-06T10:44:19.441682Z"
    }
   },
   "outputs": [],
   "source": [
    "pd.unique(shark_attacks['age'])"
   ]
  },
  {
   "cell_type": "code",
   "execution_count": null,
   "metadata": {
    "ExecuteTime": {
     "end_time": "2020-02-06T10:44:20.109175Z",
     "start_time": "2020-02-06T10:44:20.093605Z"
    }
   },
   "outputs": [],
   "source": [
    "shark_attacks['age'].value_counts()"
   ]
  },
  {
   "cell_type": "code",
   "execution_count": null,
   "metadata": {
    "ExecuteTime": {
     "end_time": "2020-02-06T10:44:20.747491Z",
     "start_time": "2020-02-06T10:44:20.709479Z"
    }
   },
   "outputs": [],
   "source": [
    "shark_attacks['age']= clean(shark_attacks['age'])\n",
    "pd.unique(shark_attacks['age'])"
   ]
  },
  {
   "cell_type": "markdown",
   "metadata": {},
   "source": [
    "Vemos que los datos han sido tratados de forma muy diferente. Intentaremos agruparlos por categorías en el apartado de discretización."
   ]
  },
  {
   "cell_type": "markdown",
   "metadata": {},
   "source": [
    "##### Country"
   ]
  },
  {
   "cell_type": "markdown",
   "metadata": {},
   "source": [
    "Pasaremos el filtro de limpieza para normalizar los nombres de los paises."
   ]
  },
  {
   "cell_type": "code",
   "execution_count": null,
   "metadata": {
    "ExecuteTime": {
     "end_time": "2020-02-06T10:44:21.211034Z",
     "start_time": "2020-02-06T10:44:21.200896Z"
    }
   },
   "outputs": [],
   "source": [
    "pd.unique(shark_attacks['country'])"
   ]
  },
  {
   "cell_type": "code",
   "execution_count": null,
   "metadata": {
    "ExecuteTime": {
     "end_time": "2020-02-06T10:44:21.780838Z",
     "start_time": "2020-02-06T10:44:21.759813Z"
    }
   },
   "outputs": [],
   "source": [
    "shark_attacks['country'].value_counts()"
   ]
  },
  {
   "cell_type": "code",
   "execution_count": null,
   "metadata": {
    "ExecuteTime": {
     "end_time": "2020-02-06T10:44:22.287207Z",
     "start_time": "2020-02-06T10:44:22.251754Z"
    }
   },
   "outputs": [],
   "source": [
    "#Limpiaremos los nombres\n",
    "shark_attacks['country'] = [(str(i).title()).replace(\"_\",\" \")\n",
    "                                           for i in clean(shark_attacks['country'])]"
   ]
  },
  {
   "cell_type": "markdown",
   "metadata": {},
   "source": [
    "Nos pasa algo parecido que con las edades, los datos han sido tratados de forma diferente, no todos los valores son países. Podría ser interesante hacer una discretización por continentes."
   ]
  },
  {
   "cell_type": "markdown",
   "metadata": {},
   "source": [
    "#### Otros atributos"
   ]
  },
  {
   "cell_type": "code",
   "execution_count": null,
   "metadata": {
    "ExecuteTime": {
     "end_time": "2020-02-06T10:44:22.796461Z",
     "start_time": "2020-02-06T10:44:22.790308Z"
    }
   },
   "outputs": [],
   "source": [
    "def nan_to_unknown (column):\n",
    "    \n",
    "    \"\"\"\n",
    "    ******************************\n",
    "    Convierte los NaN en 'unknown'\n",
    "    ******************************\n",
    "    \"\"\"\n",
    "    \n",
    "    w = column.fillna('Unknown')\n",
    "    return w"
   ]
  },
  {
   "cell_type": "code",
   "execution_count": null,
   "metadata": {
    "ExecuteTime": {
     "end_time": "2020-02-06T10:44:23.315377Z",
     "start_time": "2020-02-06T10:44:23.306404Z"
    }
   },
   "outputs": [],
   "source": [
    "shark_attacks['species'] = nan_to_unknown(shark_attacks['species'])"
   ]
  },
  {
   "cell_type": "code",
   "execution_count": null,
   "metadata": {
    "ExecuteTime": {
     "end_time": "2020-02-06T10:44:23.784273Z",
     "start_time": "2020-02-06T10:44:23.774166Z"
    }
   },
   "outputs": [],
   "source": [
    "shark_attacks['area'] = nan_to_unknown(shark_attacks['area'])"
   ]
  },
  {
   "cell_type": "code",
   "execution_count": null,
   "metadata": {
    "ExecuteTime": {
     "end_time": "2020-02-06T10:44:24.320015Z",
     "start_time": "2020-02-06T10:44:24.310677Z"
    }
   },
   "outputs": [],
   "source": [
    "shark_attacks['location'] = nan_to_unknown(shark_attacks['location'])"
   ]
  },
  {
   "cell_type": "code",
   "execution_count": null,
   "metadata": {
    "ExecuteTime": {
     "end_time": "2020-02-06T10:44:24.828927Z",
     "start_time": "2020-02-06T10:44:24.820048Z"
    }
   },
   "outputs": [],
   "source": [
    "shark_attacks['activity'] = nan_to_unknown(shark_attacks['activity'])"
   ]
  },
  {
   "cell_type": "markdown",
   "metadata": {},
   "source": [
    "### Discretización "
   ]
  },
  {
   "cell_type": "markdown",
   "metadata": {},
   "source": [
    "La <b>discretización</b> nos permite establecer un creterio por el cual podemos dividir los valores de un atributo en dos o más conjuntos."
   ]
  },
  {
   "cell_type": "markdown",
   "metadata": {},
   "source": [
    "#### Ages"
   ]
  },
  {
   "cell_type": "markdown",
   "metadata": {
    "ExecuteTime": {
     "end_time": "2020-02-05T10:05:35.570127Z",
     "start_time": "2020-02-05T10:05:35.555330Z"
    }
   },
   "source": [
    "En este punto intentaremos agrupar la edad de las víctimas por rangos:\n",
    "* <CODE>'Newborn'</CODE>: agrupará valores de 0 a 1 año,\n",
    "* <CODE>'Children'</CODE>: agrupará valores de 1 a 10 años,\n",
    "* <CODE>'Teen'</CODE>: agrupará valores de 10 a 19 años\n",
    "* <CODE>'Young'</CODE>: agrupará valores de los 20 a los 30 años,\n",
    "* <CODE>'Adult'</CODE>: agrupará valores de los 31 a los 55 años,\n",
    "* <CODE>'Senior'</CODE>: agrupará valores de los 56 a los 75 años,\n",
    "* <CODE>'Old'</CODE>: agrupará valores desde los 75 años."
   ]
  },
  {
   "cell_type": "code",
   "execution_count": null,
   "metadata": {
    "ExecuteTime": {
     "end_time": "2020-02-06T10:44:25.313730Z",
     "start_time": "2020-02-06T10:44:25.250656Z"
    }
   },
   "outputs": [],
   "source": [
    "age_list = []\n",
    "ages_list = ['newborn', 'children','teen','young','adult','senior','old']\n",
    "        \n",
    "for row in shark_attacks['age']: \n",
    "    \n",
    "    get_row = \"\".join(re.findall('(months)',str(row)))\n",
    "    \n",
    "    if row.lower() in ages_list:\n",
    "        age_list.append(row.capitalize()) \n",
    "\n",
    "    else:\n",
    "        \n",
    "        age_row = \"\".join(re.findall('\\d{1,2}',str(row)))\n",
    "        age_row = re.sub('\\?','',age_row)\n",
    "        age_row = re.sub('\\&','',age_row)\n",
    "        \n",
    "        try:\n",
    "            if get_row == \"months\":\n",
    "                age_list.append('Newborn')\n",
    "            elif int(age_row) >= 1 and int(age_row) <= 10:\n",
    "                age_list.append('Children')\n",
    "            elif int(age_row)>10 and int(age_row)<20:\n",
    "                age_list.append('Teen')\n",
    "            elif int(age_row)>=20 and int(age_row)<=30:\n",
    "                age_list.append('Young')\n",
    "            elif int(age_row)>30 and int(age_row)<=55:\n",
    "                age_list.append('Adult')\n",
    "            elif int(age_row)>55 and int(age_row)<75:\n",
    "                age_list.append('Senior')\n",
    "            elif int(age_row)>=75:\n",
    "                age_list.append('Old')\n",
    "\n",
    "        except ValueError:\n",
    "            age_list.append('Unknown')"
   ]
  },
  {
   "cell_type": "code",
   "execution_count": null,
   "metadata": {
    "ExecuteTime": {
     "end_time": "2020-02-06T10:44:25.767691Z",
     "start_time": "2020-02-06T10:44:25.763190Z"
    }
   },
   "outputs": [],
   "source": [
    "shark_attacks['age'] = age_list"
   ]
  },
  {
   "cell_type": "markdown",
   "metadata": {
    "ExecuteTime": {
     "end_time": "2020-02-05T10:06:21.975501Z",
     "start_time": "2020-02-05T10:06:21.971142Z"
    }
   },
   "source": [
    "#### Year to Century"
   ]
  },
  {
   "cell_type": "markdown",
   "metadata": {
    "ExecuteTime": {
     "end_time": "2020-02-05T08:55:18.238470Z",
     "start_time": "2020-02-05T08:55:18.212437Z"
    }
   },
   "source": [
    "Crearemos una columna nueva para agrupar los años por siglos. Crearemos una columna nueva con esta información a la que llamaremos <CODE>'century</CODE>.\n",
    "\n",
    "Esto nos será útil para su posterior visualización."
   ]
  },
  {
   "cell_type": "code",
   "execution_count": null,
   "metadata": {
    "ExecuteTime": {
     "end_time": "2020-02-06T10:44:26.618221Z",
     "start_time": "2020-02-06T10:44:26.590534Z"
    }
   },
   "outputs": [],
   "source": [
    "centuries = []\n",
    "for year in shark_attacks['year']:\n",
    "    \n",
    "    if year <= 100:\n",
    "        centuries.append('I')\n",
    "    if year <= 200 and year > 100:\n",
    "        centuries.append('II')\n",
    "    if year <= 300 and year > 200:\n",
    "        centuries.append('III')\n",
    "    if year <= 400 and year > 300:\n",
    "        centuries.append('IV')\n",
    "    if year <= 500 and year > 400:\n",
    "        centuries.append('V')\n",
    "    if year <= 600 and year > 500:\n",
    "        centuries.append('VI')\n",
    "    if year <= 700 and year > 600:\n",
    "        centuries.append('VII')\n",
    "    if year <= 800 and year > 700:\n",
    "        centuries.append('VIII')\n",
    "    if year <= 900 and year > 800:\n",
    "        centuries.append('IX')\n",
    "    if year <= 1000 and year > 900:\n",
    "        centuries.append('X')\n",
    "    if year <= 1100 and year > 1000:\n",
    "        centuries.append('XI')\n",
    "    if year <= 1200 and year > 1100:\n",
    "        centuries.append('XII')\n",
    "    if year <= 1300 and year > 1200:\n",
    "        centuries.append('XIII')\n",
    "    if year <= 1400 and year > 1300:\n",
    "        centuries.append('XIV')\n",
    "    if year <= 1500 and year > 1400:\n",
    "        centuries.append('XV')\n",
    "    if year <= 1600 and year > 1500:\n",
    "        centuries.append('XVI')\n",
    "    if year <= 1700 and year > 1600:\n",
    "        centuries.append('XVII')\n",
    "    if year <= 1800 and year > 1700:\n",
    "        centuries.append('XVIII')\n",
    "    if year <= 1900 and year > 1800:\n",
    "        centuries.append('XIX')\n",
    "    if year <= 2000 and year > 1900:\n",
    "        centuries.append('XX')\n",
    "    if year <= 2100 and year > 2000:\n",
    "        centuries.append('XXI')\n",
    "    \n",
    "shark_attacks['century'] = centuries"
   ]
  },
  {
   "cell_type": "markdown",
   "metadata": {},
   "source": [
    "### Reducción de la dimensionalidad"
   ]
  },
  {
   "cell_type": "markdown",
   "metadata": {},
   "source": [
    "En este último paso antes de empezar con el análisis se busca trabajar con menos datos y obtener los mismos resultados. Para ello pasaremos a eliminar atributos que no nos aportan información relevante.\n",
    "\n",
    "\n",
    "Descartamos las columnas <CODE>'date'</CODE>, <CODE>'fatal_(y/n)'</CODE>, <CODE>'time'</CODE>, <CODE>'investigator_or_source'</CODE>, <CODE>'pdf'</CODE>, <CODE>'href_formula'</CODE>, <CODE>'href'</CODE>,<CODE>'case_number_1'</CODE>,<CODE>'case_number_2'</CODE>, <CODE>'original_order'</CODE>, <CODE>'unnamed_22'</CODE> y <CODE>'unnamed_23'</CODE>.\n",
    "\n",
    "La columna <CODE>'name'</CODE> también será eliminada por la RGPD.\n",
    "\n",
    "Y pasaremos a ordenar las columnas."
   ]
  },
  {
   "cell_type": "code",
   "execution_count": null,
   "metadata": {
    "ExecuteTime": {
     "end_time": "2020-02-06T10:44:27.881344Z",
     "start_time": "2020-02-06T10:44:27.850857Z"
    }
   },
   "outputs": [],
   "source": [
    "shark_attacks = shark_attacks.drop(['date','name','type', 'injury', 'fatal_yn', 'time',\n",
    "                                    'investigator_or_source', 'pdf', 'href_formula', 'href',\n",
    "                                    'case_number_1', 'case_number_2', 'original_order', 'unnamed_22',\n",
    "                                    'unnamed_23'], axis=1)"
   ]
  },
  {
   "cell_type": "code",
   "execution_count": null,
   "metadata": {
    "ExecuteTime": {
     "end_time": "2020-02-06T10:44:28.722389Z",
     "start_time": "2020-02-06T10:44:28.710443Z"
    }
   },
   "outputs": [],
   "source": [
    "#Reordenamos las columnas:\n",
    "\n",
    "column_order = ['case_number','year','century','sex','age',\n",
    "                'country','area','location', 'activity',\n",
    "                'type_attack', 'species']\n",
    "\n",
    "shark_attacks = shark_attacks[column_order]"
   ]
  },
  {
   "cell_type": "code",
   "execution_count": null,
   "metadata": {
    "ExecuteTime": {
     "end_time": "2020-02-06T10:44:29.407914Z",
     "start_time": "2020-02-06T10:44:29.388666Z"
    }
   },
   "outputs": [],
   "source": [
    "shark_attacks.isnull().sum()"
   ]
  },
  {
   "cell_type": "markdown",
   "metadata": {},
   "source": [
    "Buscaremos las observaciones duplicadas y las eliminaremos."
   ]
  },
  {
   "cell_type": "code",
   "execution_count": null,
   "metadata": {
    "ExecuteTime": {
     "end_time": "2020-02-06T10:44:30.448322Z",
     "start_time": "2020-02-06T10:44:30.424447Z"
    }
   },
   "outputs": [],
   "source": [
    "shark_attacks = shark_attacks.drop_duplicates()\n",
    "shark_attacks.shape"
   ]
  },
  {
   "cell_type": "markdown",
   "metadata": {},
   "source": [
    "Guardamos nuestros datos en un CSV."
   ]
  },
  {
   "cell_type": "code",
   "execution_count": null,
   "metadata": {
    "ExecuteTime": {
     "end_time": "2020-02-06T10:44:35.889628Z",
     "start_time": "2020-02-06T10:44:35.806894Z"
    }
   },
   "outputs": [],
   "source": [
    "shark_attacks.to_csv(\"../Datos/shark_attacks.csv\", index = False)"
   ]
  },
  {
   "cell_type": "markdown",
   "metadata": {},
   "source": [
    "## [BONUS] Visualización de resultados"
   ]
  },
  {
   "cell_type": "markdown",
   "metadata": {},
   "source": [
    "Como hemos visto un poco por encima los witgets intentaremos incluirlos para visualizar los datos."
   ]
  },
  {
   "cell_type": "code",
   "execution_count": null,
   "metadata": {
    "ExecuteTime": {
     "end_time": "2020-02-06T10:44:39.915834Z",
     "start_time": "2020-02-06T10:44:39.910519Z"
    }
   },
   "outputs": [],
   "source": [
    "ALL = 'All'\n",
    "def unique_values_plus_ALL(array):\n",
    "    \n",
    "    \"\"\"\n",
    "    ********************************\n",
    "    Esta función saca los valores\n",
    "    únicos de una columna y le añade\n",
    "    All.\n",
    "    \n",
    "    Input = array\n",
    "    Output = valores únicos del array\n",
    "    + All.\n",
    "    ********************************\n",
    "    \"\"\"\n",
    "    \n",
    "    unique = array.unique().tolist()\n",
    "    unique.insert(0, ALL)\n",
    "    return unique"
   ]
  },
  {
   "cell_type": "markdown",
   "metadata": {},
   "source": [
    "Crearemos un primer desplegable que saque las estadísticas por columna."
   ]
  },
  {
   "cell_type": "code",
   "execution_count": null,
   "metadata": {
    "ExecuteTime": {
     "end_time": "2020-02-06T10:45:03.508507Z",
     "start_time": "2020-02-06T10:45:03.446025Z"
    }
   },
   "outputs": [],
   "source": [
    "@interact\n",
    "# El @interact es necesario para que funcione.\n",
    "def describe(column=list(shark_attacks.columns)):\n",
    "    \n",
    "    \"\"\"\n",
    "    ********************************************\n",
    "    Con esta función creamos un desplegable, al \n",
    "    seleccionar una de las columnas nos devolverá\n",
    "    los datos agregados\n",
    "    *********************************************\n",
    "    \"\"\"\n",
    "    \n",
    "    print(shark_attacks[column].describe())"
   ]
  },
  {
   "cell_type": "markdown",
   "metadata": {},
   "source": [
    "Con las siguientes líneas de código conseguimos que nos devuelva los datos según el filtro que le indiquemos."
   ]
  },
  {
   "cell_type": "code",
   "execution_count": null,
   "metadata": {
    "ExecuteTime": {
     "end_time": "2020-02-06T10:45:04.461008Z",
     "start_time": "2020-02-06T10:45:04.449451Z"
    }
   },
   "outputs": [],
   "source": [
    "lista_century = unique_values_plus_ALL(shark_attacks.century)\n",
    "lista_age = unique_values_plus_ALL(shark_attacks.age)\n",
    "lista_sex = unique_values_plus_ALL(shark_attacks.sex)\n",
    "lista_type_attack = unique_values_plus_ALL(shark_attacks.type_attack)"
   ]
  },
  {
   "cell_type": "code",
   "execution_count": null,
   "metadata": {
    "ExecuteTime": {
     "end_time": "2020-02-06T10:45:05.228475Z",
     "start_time": "2020-02-06T10:45:05.215470Z"
    }
   },
   "outputs": [],
   "source": [
    "#funcion\n",
    "def filtro(century, age, sex, type_attack):\n",
    "    \n",
    "    \"\"\"\n",
    "    **************************\n",
    "    Aplica el filtro a las 3\n",
    "    columnas que nos interesan.\n",
    "    **************************\n",
    "    \n",
    "    \"\"\"\n",
    "    \n",
    "    if (century == ALL) & (age == ALL) & (sex == ALL)& (type_attack == ALL):\n",
    "        filtrado = shark_attacks\n",
    "        \n",
    "    elif (century == ALL):\n",
    "        filtrado = shark_attacks.loc[(shark_attacks['age'] == age)& \n",
    "                             (shark_attacks['sex'] == sex) & (shark_attacks['type_attack'] == type_attack)]\n",
    "    elif (age == ALL):\n",
    "        filtrado = shark_attacks.loc[(shark_attacks['century'] == age)& \n",
    "                             (shark_attacks['sex'] == sex)&(shark_attacks['type_attack'] == type_attack)]\n",
    "    elif (sex == ALL):\n",
    "        filtrado = shark_attacks.loc[(shark_attacks['century'] == age)& \n",
    "                             (shark_attacks['age'] == sex)&(shark_attacks['type_attack'] == type_attack)]\n",
    "    elif (type_attack == ALL):\n",
    "        filtrado = shark_attacks.loc[(shark_attacks['century'] == age)& \n",
    "                             (shark_attacks['age'] == sex)&(shark_attacks['sex'] == sex)]\n",
    "    else:\n",
    "        filtrado = shark_attacks.loc[(shark_attacks['century'] == century) &\n",
    "                             (shark_attacks['age'] == age) & \n",
    "                             (shark_attacks['sex'] == sex) & (shark_attacks['type_attack'] == type_attack)]\n",
    "        \n",
    "    return filtrado"
   ]
  },
  {
   "cell_type": "markdown",
   "metadata": {},
   "source": [
    "Filtro final:"
   ]
  },
  {
   "cell_type": "code",
   "execution_count": null,
   "metadata": {
    "ExecuteTime": {
     "end_time": "2020-02-06T10:45:06.427368Z",
     "start_time": "2020-02-06T10:45:06.333018Z"
    }
   },
   "outputs": [],
   "source": [
    "interact (filtro, \n",
    "          century = lista_century,\n",
    "          age = lista_age,\n",
    "          sex = lista_sex, \n",
    "          type_attack = lista_type_attack);"
   ]
  }
 ],
 "metadata": {
  "kernelspec": {
   "display_name": "Python 3",
   "language": "python",
   "name": "python3"
  },
  "language_info": {
   "codemirror_mode": {
    "name": "ipython",
    "version": 3
   },
   "file_extension": ".py",
   "mimetype": "text/x-python",
   "name": "python",
   "nbconvert_exporter": "python",
   "pygments_lexer": "ipython3",
   "version": "3.7.4"
  },
  "toc": {
   "base_numbering": 1,
   "nav_menu": {},
   "number_sections": true,
   "sideBar": true,
   "skip_h1_title": false,
   "title_cell": "Table of Contents",
   "title_sidebar": "Contents",
   "toc_cell": false,
   "toc_position": {},
   "toc_section_display": true,
   "toc_window_display": false
  },
  "varInspector": {
   "cols": {
    "lenName": 16,
    "lenType": 16,
    "lenVar": 40
   },
   "kernels_config": {
    "python": {
     "delete_cmd_postfix": "",
     "delete_cmd_prefix": "del ",
     "library": "var_list.py",
     "varRefreshCmd": "print(var_dic_list())"
    },
    "r": {
     "delete_cmd_postfix": ") ",
     "delete_cmd_prefix": "rm(",
     "library": "var_list.r",
     "varRefreshCmd": "cat(var_dic_list()) "
    }
   },
   "types_to_exclude": [
    "module",
    "function",
    "builtin_function_or_method",
    "instance",
    "_Feature"
   ],
   "window_display": false
  }
 },
 "nbformat": 4,
 "nbformat_minor": 2
}
